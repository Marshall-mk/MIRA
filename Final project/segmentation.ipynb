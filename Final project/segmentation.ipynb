{
 "cells": [
  {
   "cell_type": "code",
   "execution_count": 1,
   "metadata": {},
   "outputs": [],
   "source": [
    "import os\n",
    "import glob\n",
    "import torch\n",
    "import numpy as np \n",
    "import nibabel as nib\n",
    "from monai.transforms import (\n",
    "    AsDiscrete,\n",
    "    AsDiscreted,\n",
    "    EnsureChannelFirstd,\n",
    "    Compose,\n",
    "    CropForegroundd,\n",
    "    LoadImaged,\n",
    "    Orientationd,\n",
    "    RandAffined,\n",
    "    RandFlipd,\n",
    "    RandScaleIntensityd,\n",
    "    RandShiftIntensityd,\n",
    "    RandSpatialCropd,\n",
    "    SaveImaged,\n",
    "    ScaleIntensityRanged,\n",
    "    Spacingd,\n",
    "    Invertd,\n",
    ")\n",
    "from monai.losses import DiceLoss\n",
    "from monai.metrics import DiceMetric\n",
    "from monai.networks.nets import UNet\n",
    "from monai.networks.layers import Norm\n",
    "from monai.data import CacheDataset, DataLoader, Dataset, decollate_batch\n",
    "from monai.inferers import sliding_window_inference\n",
    "from monai.transforms import LoadImage\n",
    "from monai.handlers.utils import from_engine\n",
    "device = torch.device(\"cuda\" if torch.cuda.is_available() else \"cpu\")\n",
    "import matplotlib.pyplot as plt\n",
    "%matplotlib inline"
   ]
  },
  {
   "cell_type": "code",
   "execution_count": 7,
   "metadata": {},
   "outputs": [
    {
     "name": "stderr",
     "output_type": "stream",
     "text": [
      "monai.transforms.croppad.dictionary CropForegroundd.__init__:allow_smaller: Current default value of argument `allow_smaller=True` has been deprecated since version 1.2. It will be changed to `allow_smaller=False` in version 1.5.\n"
     ]
    }
   ],
   "source": [
    "train_transforms = Compose(\n",
    "    [\n",
    "        LoadImaged(keys=[\"image\", \"label\"]),\n",
    "        EnsureChannelFirstd(keys=[\"image\", \"label\"]),\n",
    "        ScaleIntensityRanged(\n",
    "            keys=[\"image\"], a_min=-1000, a_max=1000,\n",
    "            b_min=0.0, b_max=1.0, clip=True,\n",
    "        ),\n",
    "        \n",
    "        # Change labels from 255 to 1\n",
    "        ScaleIntensityRanged(\n",
    "            keys=[\"label\"], a_min=0, a_max=255,\n",
    "            b_min=0.0, b_max=1.0, clip=True,\n",
    "        ),\n",
    "        CropForegroundd(keys=[\"image\", \"label\"], source_key=\"image\"),\n",
    "        Orientationd(keys=[\"image\", \"label\"], axcodes=\"PLS\"),\n",
    "        Spacingd(keys=[\"image\", \"label\"], pixdim=(1.5, 1.5, 2.0), mode=(\"bilinear\", \"nearest\")),\n",
    "        \n",
    "        # Randomly crop a patch from both image and label files\n",
    "        RandSpatialCropd(\n",
    "                keys=[\"image\", \"label\"],\n",
    "                roi_size=[96, 96, 96],\n",
    "                random_size=False,\n",
    "        ),\n",
    "     \n",
    "        # Data augmentation transforms\n",
    "        RandAffined(\n",
    "            keys=['image', 'label'],\n",
    "            mode=('bilinear', 'nearest'),\n",
    "            prob=1.0, spatial_size=(96, 96, 96),\n",
    "            rotate_range=(0, 0, np.pi/15),\n",
    "            scale_range=(0.1, 0.1, 0.1)),\n",
    "        RandFlipd(keys=[\"image\", \"label\"], prob=0.25, spatial_axis=0),\n",
    "        RandFlipd(keys=[\"image\", \"label\"], prob=0.25, spatial_axis=1),\n",
    "        RandFlipd(keys=[\"image\", \"label\"], prob=0.25, spatial_axis=2),\n",
    "        RandScaleIntensityd(keys=\"image\", factors=0.1, prob=1.0),\n",
    "        RandShiftIntensityd(keys=\"image\", offsets=0.1, prob=1.0),\n",
    "        ])\n",
    "\n",
    "val_transforms = Compose(\n",
    "    [\n",
    "        LoadImaged(keys=[\"image\", \"label\"]),\n",
    "        EnsureChannelFirstd(keys=[\"image\", \"label\"]),\n",
    "        ScaleIntensityRanged(\n",
    "            keys=[\"image\"], a_min=-1000, a_max=1000,\n",
    "            b_min=0.0, b_max=1.0, clip=True,\n",
    "        ),\n",
    "        ScaleIntensityRanged(\n",
    "            keys=[\"label\"], a_min=0, a_max=255,\n",
    "            b_min=0.0, b_max=1.0, clip=True,\n",
    "        ),\n",
    "        CropForegroundd(keys=[\"image\", \"label\"], source_key=\"image\"),\n",
    "        Orientationd(keys=[\"image\", \"label\"], axcodes=\"PLS\"),\n",
    "        Spacingd(keys=[\"image\", \"label\"], pixdim=(1.5, 1.5, 2.0), mode=(\"bilinear\", \"nearest\")),\n",
    "    ])\n",
    "\n",
    "\n",
    "test_transforms = Compose(\n",
    "    [\n",
    "        LoadImaged(keys=[\"image\"]),\n",
    "        EnsureChannelFirstd(keys=[\"image\"]),\n",
    "        ScaleIntensityRanged(\n",
    "            keys=[\"image\"], a_min=-2000, a_max=3000,\n",
    "            b_min=0.0, b_max=1.0, clip=True,\n",
    "        ),\n",
    "        CropForegroundd(keys=[\"image\"], source_key=\"image\"),\n",
    "        Orientationd(keys=[\"image\"], axcodes=\"PLS\"),\n",
    "        Spacingd(keys=[\"image\"], pixdim=(1.5, 1.5, 2.0), mode=(\"bilinear\")),\n",
    "    ])"
   ]
  },
  {
   "cell_type": "code",
   "execution_count": 8,
   "metadata": {},
   "outputs": [],
   "source": [
    "test_images = ['data/copd{patient_num}/copd{patient_num}_iBHCT.nii.gz'.format(patient_num=i) for i in range(1, 5)]\n",
    "\n",
    "\n",
    "test_files = [{\"image\": img} for img in test_images]"
   ]
  },
  {
   "cell_type": "code",
   "execution_count": 5,
   "metadata": {},
   "outputs": [
    {
     "name": "stdout",
     "output_type": "stream",
     "text": [
      "[{'image': 'data/copd1/copd1_iBHCT.nii.gz'}, {'image': 'data/copd2/copd2_iBHCT.nii.gz'}, {'image': 'data/copd3/copd3_iBHCT.nii.gz'}, {'image': 'data/copd4/copd4_iBHCT.nii.gz'}]\n"
     ]
    }
   ],
   "source": [
    "print(test_files)"
   ]
  },
  {
   "cell_type": "code",
   "execution_count": 6,
   "metadata": {},
   "outputs": [
    {
     "name": "stdout",
     "output_type": "stream",
     "text": [
      "No. of images: 29\n",
      "img intensity min.: -2000.0  max.: 2882.0\n"
     ]
    },
    {
     "data": {
      "image/png": "[encoded data removed]",
      "text/plain": [
       "<Figure size 800x500 with 1 Axes>"
      ]
     },
     "metadata": {},
     "output_type": "display_data"
    }
   ],
   "source": [
    "images = test_files[0]['image']\n",
    "\n",
    "\n",
    "print('No. of images:', len(images))\n",
    "\n",
    "img = nib.load(images).get_fdata()\n",
    "\n",
    "print('img intensity min.:', np.min(img), ' max.:', np.max(img))\n",
    "\n",
    "slice_idx = 100\n",
    "plt.figure(figsize=(8,5))\n",
    "plt.subplot(1,2,1)\n",
    "plt.imshow(img[slice_idx], cmap='gray', vmin=-1000, vmax=1000)\n",
    "plt.show()"
   ]
  },
  {
   "cell_type": "code",
   "execution_count": 9,
   "metadata": {},
   "outputs": [],
   "source": [
    "test_ds = Dataset(data=test_files, transform=test_transforms)\n",
    "test_loader = DataLoader(test_ds, batch_size=1)\n",
    "\n",
    "post_transforms = Compose([\n",
    "    Invertd(\n",
    "        keys=\"pred\",\n",
    "        transform=test_transforms,\n",
    "        orig_keys=\"image\",\n",
    "        meta_keys=\"pred_meta_dict\",\n",
    "        orig_meta_keys=\"image_meta_dict\",\n",
    "        meta_key_postfix=\"meta_dict\",\n",
    "        nearest_interp=False,\n",
    "        to_tensor=True,\n",
    "    ),\n",
    "    AsDiscreted(keys=\"pred\", argmax=True, to_onehot=2),\n",
    "    SaveImaged(keys=\"pred\", meta_keys=\"pred_meta_dict\", output_dir=\"./out\", output_postfix=\"seg\", resample=False),\n",
    "])"
   ]
  },
  {
   "cell_type": "code",
   "execution_count": 10,
   "metadata": {},
   "outputs": [],
   "source": [
    "model = UNet(\n",
    "    spatial_dims=3,\n",
    "    in_channels=1,\n",
    "    out_channels=2,\n",
    "    channels=(16, 32, 64, 128, 256),\n",
    "    strides=(2, 2, 2, 2),\n",
    "    num_res_units=2,\n",
    "    norm=Norm.BATCH,\n",
    ").to(device)\n",
    "loss_function = DiceLoss(to_onehot_y=True, softmax=True)\n",
    "optimizer = torch.optim.Adam(model.parameters(), 1e-4)\n",
    "dice_metric = DiceMetric(include_background=False, reduction=\"mean\")"
   ]
  },
  {
   "cell_type": "code",
   "execution_count": 11,
   "metadata": {},
   "outputs": [
    {
     "name": "stdout",
     "output_type": "stream",
     "text": [
      "2024-12-22 16:24:00,782 INFO image_writer.py:197 - writing: out\\copd1_iBHCT\\copd1_iBHCT_seg.nii.gz\n",
      "2024-12-22 16:24:32,776 INFO image_writer.py:197 - writing: out\\copd2_iBHCT\\copd2_iBHCT_seg.nii.gz\n",
      "2024-12-22 16:25:15,170 INFO image_writer.py:197 - writing: out\\copd3_iBHCT\\copd3_iBHCT_seg.nii.gz\n",
      "2024-12-22 16:25:49,514 INFO image_writer.py:197 - writing: out\\copd4_iBHCT\\copd4_iBHCT_seg.nii.gz\n"
     ]
    }
   ],
   "source": [
    "loader = LoadImage()\n",
    "\n",
    "model.load_state_dict(torch.load(\"best_metric_model.pth\", map_location=device))\n",
    "model.eval()\n",
    "\n",
    "with torch.no_grad():\n",
    "    for test_data in test_loader:\n",
    "        test_inputs = test_data[\"image\"].to(device)\n",
    "        test_data[\"pred\"] = sliding_window_inference(test_inputs, (96, 96, 96), 1, model, overlap=0.75)\n",
    "\n",
    "        test_data = [post_transforms(i) for i in decollate_batch(test_data)]\n",
    "        test_output = from_engine([\"pred\"])(test_data)"
   ]
  },
  {
   "cell_type": "code",
   "execution_count": null,
   "metadata": {},
   "outputs": [],
   "source": []
  }
 ],
 "metadata": {
  "kernelspec": {
   "display_name": "Python 3",
   "language": "python",
   "name": "python3"
  },
  "language_info": {
   "codemirror_mode": {
    "name": "ipython",
    "version": 3
   },
   "file_extension": ".py",
   "mimetype": "text/x-python",
   "name": "python",
   "nbconvert_exporter": "python",
   "pygments_lexer": "ipython3",
   "version": "3.11.9"
  }
 },
 "nbformat": 4,
 "nbformat_minor": 2
}
