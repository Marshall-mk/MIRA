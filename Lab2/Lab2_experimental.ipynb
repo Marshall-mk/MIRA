{
 "cells": [
  {
   "cell_type": "markdown",
   "metadata": {},
   "source": [
    "# Libraries"
   ]
  },
  {
   "cell_type": "code",
   "execution_count": 1,
   "metadata": {},
   "outputs": [],
   "source": [
    "import itk\n",
    "from tqdm import tqdm\n",
    "from itkwidgets import compare, checkerboard\n",
    "import matplotlib.pyplot as plt\n",
    "import numpy as np\n",
    "import os\n",
    "import SimpleITK as sitk\n",
    "from tqdm import tqdm\n",
    "import seaborn as sns\n",
    "from pathlib import Path\n",
    "from typing import List"
   ]
  },
  {
   "cell_type": "code",
   "execution_count": null,
   "metadata": {},
   "outputs": [],
   "source": [
    "def calculate_dice_coefficient(fixed_label: itk.Image, registered_label: itk.Image) -> float:  \n",
    "    # Ensure binary labels\n",
    "    dice=0\n",
    "    for cls in [1,2,3]:\n",
    "        fixed_array = (fixed_label == cls).astype(int)\n",
    "        registered_array = (registered_label == cls).astype(int)\n",
    "        intersection = np.sum(fixed_array * registered_array)\n",
    "        sum_fixed = np.sum(fixed_array)\n",
    "        sum_registered = np.sum(registered_array)\n",
    "        dice += (2.0 * intersection) / (sum_fixed + sum_registered + 1e-6) \n",
    "    return dice/3"
   ]
  },
  {
   "cell_type": "markdown",
   "metadata": {},
   "source": [
    "# Registration One vs Rest param:9 affine"
   ]
  },
  {
   "cell_type": "code",
   "execution_count": 3,
   "metadata": {},
   "outputs": [
    {
     "name": "stderr",
     "output_type": "stream",
     "text": [
      "Registration Progress: 100%|██████████| 14/14 [00:57<00:00,  4.11s/it]\n",
      "Fixed Images:   7%|▋         | 1/15 [00:58<13:41, 58.70s/it]"
     ]
    },
    {
     "name": "stdout",
     "output_type": "stream",
     "text": [
      "Average Dice Score for fixed image 1000.nii.gz: 0.5764718672699909\n"
     ]
    },
    {
     "name": "stderr",
     "output_type": "stream",
     "text": [
      "Registration Progress: 100%|██████████| 14/14 [00:43<00:00,  3.10s/it]\n",
      "Fixed Images:  13%|█▎        | 2/15 [01:42<10:47, 49.82s/it]"
     ]
    },
    {
     "name": "stdout",
     "output_type": "stream",
     "text": [
      "Average Dice Score for fixed image 1001.nii.gz: 0.5743672019061804\n"
     ]
    },
    {
     "name": "stderr",
     "output_type": "stream",
     "text": [
      "Registration Progress: 100%|██████████| 14/14 [00:43<00:00,  3.09s/it]\n",
      "Fixed Images:  20%|██        | 3/15 [02:25<09:22, 46.91s/it]"
     ]
    },
    {
     "name": "stdout",
     "output_type": "stream",
     "text": [
      "Average Dice Score for fixed image 1002.nii.gz: 0.5337436247607907\n"
     ]
    },
    {
     "name": "stderr",
     "output_type": "stream",
     "text": [
      "Registration Progress: 100%|██████████| 14/14 [00:44<00:00,  3.20s/it]\n",
      "Fixed Images:  27%|██▋       | 4/15 [03:10<08:27, 46.10s/it]"
     ]
    },
    {
     "name": "stdout",
     "output_type": "stream",
     "text": [
      "Average Dice Score for fixed image 1006.nii.gz: 0.5655315375276851\n"
     ]
    },
    {
     "name": "stderr",
     "output_type": "stream",
     "text": [
      "Registration Progress: 100%|██████████| 14/14 [00:42<00:00,  3.06s/it]\n",
      "Fixed Images:  33%|███▎      | 5/15 [03:53<07:29, 44.98s/it]"
     ]
    },
    {
     "name": "stdout",
     "output_type": "stream",
     "text": [
      "Average Dice Score for fixed image 1007.nii.gz: 0.5767333704927546\n"
     ]
    },
    {
     "name": "stderr",
     "output_type": "stream",
     "text": [
      "Registration Progress: 100%|██████████| 14/14 [00:44<00:00,  3.19s/it]\n",
      "Fixed Images:  40%|████      | 6/15 [04:38<06:44, 44.90s/it]"
     ]
    },
    {
     "name": "stdout",
     "output_type": "stream",
     "text": [
      "Average Dice Score for fixed image 1008.nii.gz: 0.6268816480859328\n"
     ]
    },
    {
     "name": "stderr",
     "output_type": "stream",
     "text": [
      "Registration Progress: 100%|██████████| 14/14 [00:46<00:00,  3.36s/it]\n",
      "Fixed Images:  47%|████▋     | 7/15 [05:25<06:05, 45.63s/it]"
     ]
    },
    {
     "name": "stdout",
     "output_type": "stream",
     "text": [
      "Average Dice Score for fixed image 1009.nii.gz: 0.595059900204066\n"
     ]
    },
    {
     "name": "stderr",
     "output_type": "stream",
     "text": [
      "Registration Progress: 100%|██████████| 14/14 [00:44<00:00,  3.17s/it]\n",
      "Fixed Images:  53%|█████▎    | 8/15 [06:09<05:16, 45.26s/it]"
     ]
    },
    {
     "name": "stdout",
     "output_type": "stream",
     "text": [
      "Average Dice Score for fixed image 1010.nii.gz: 0.5800149987047016\n"
     ]
    },
    {
     "name": "stderr",
     "output_type": "stream",
     "text": [
      "Registration Progress: 100%|██████████| 14/14 [00:45<00:00,  3.22s/it]\n",
      "Fixed Images:  60%|██████    | 9/15 [06:55<04:31, 45.27s/it]"
     ]
    },
    {
     "name": "stdout",
     "output_type": "stream",
     "text": [
      "Average Dice Score for fixed image 1011.nii.gz: 0.611003575960968\n"
     ]
    },
    {
     "name": "stderr",
     "output_type": "stream",
     "text": [
      "Registration Progress: 100%|██████████| 14/14 [00:45<00:00,  3.27s/it]\n",
      "Fixed Images:  67%|██████▋   | 10/15 [07:41<03:47, 45.48s/it]"
     ]
    },
    {
     "name": "stdout",
     "output_type": "stream",
     "text": [
      "Average Dice Score for fixed image 1012.nii.gz: 0.5382658618519057\n"
     ]
    },
    {
     "name": "stderr",
     "output_type": "stream",
     "text": [
      "Registration Progress: 100%|██████████| 14/14 [00:46<00:00,  3.33s/it]\n",
      "Fixed Images:  73%|███████▎  | 11/15 [08:27<03:03, 45.87s/it]"
     ]
    },
    {
     "name": "stdout",
     "output_type": "stream",
     "text": [
      "Average Dice Score for fixed image 1013.nii.gz: 0.6146182456025214\n"
     ]
    },
    {
     "name": "stderr",
     "output_type": "stream",
     "text": [
      "Registration Progress: 100%|██████████| 14/14 [00:44<00:00,  3.18s/it]\n",
      "Fixed Images:  80%|████████  | 12/15 [09:12<02:16, 45.52s/it]"
     ]
    },
    {
     "name": "stdout",
     "output_type": "stream",
     "text": [
      "Average Dice Score for fixed image 1014.nii.gz: 0.5745103515028679\n"
     ]
    },
    {
     "name": "stderr",
     "output_type": "stream",
     "text": [
      "Registration Progress: 100%|██████████| 14/14 [00:46<00:00,  3.31s/it]\n",
      "Fixed Images:  87%|████████▋ | 13/15 [09:59<01:31, 45.81s/it]"
     ]
    },
    {
     "name": "stdout",
     "output_type": "stream",
     "text": [
      "Average Dice Score for fixed image 1015.nii.gz: 0.592401315216313\n"
     ]
    },
    {
     "name": "stderr",
     "output_type": "stream",
     "text": [
      "Registration Progress: 100%|██████████| 14/14 [00:43<00:00,  3.13s/it]\n",
      "Fixed Images:  93%|█████████▎| 14/15 [10:43<00:45, 45.24s/it]"
     ]
    },
    {
     "name": "stdout",
     "output_type": "stream",
     "text": [
      "Average Dice Score for fixed image 1017.nii.gz: 0.5522962076343844\n"
     ]
    },
    {
     "name": "stderr",
     "output_type": "stream",
     "text": [
      "Registration Progress: 100%|██████████| 14/14 [00:46<00:00,  3.32s/it]\n",
      "Fixed Images: 100%|██████████| 15/15 [11:29<00:00, 45.99s/it]"
     ]
    },
    {
     "name": "stdout",
     "output_type": "stream",
     "text": [
      "Average Dice Score for fixed image 1036.nii.gz: 0.5488733254920073\n",
      "\n",
      "Best fixed image: 1008.nii.gz with average dice score: 0.6268816480859328\n"
     ]
    },
    {
     "name": "stderr",
     "output_type": "stream",
     "text": [
      "\n"
     ]
    }
   ],
   "source": [
    "best_scores = {}\n",
    "folder_path = 'training-set/training-images/'\n",
    "label_path = 'training-set/training-labels/'\n",
    "# Iterate through each potential fixed image\n",
    "for fixed_file in tqdm(os.listdir(folder_path), desc=\"Fixed Images\"):\n",
    "    if not fixed_file.endswith(('.nii', '.nii.gz')):\n",
    "        continue\n",
    "    fixed_image = itk.imread(os.path.join(folder_path, fixed_file), itk.F)\n",
    "    fixed_label = itk.imread(os.path.join(label_path, fixed_file.replace('.nii.gz', '_3C.nii.gz')), itk.F)\n",
    "    files_to_process = [os.path.join(folder_path, f) for f in os.listdir(folder_path) if f.endswith(('.nii', '.nii.gz')) and f != fixed_file]\n",
    "    with tqdm(total=len(files_to_process), desc=\"Registration Progress\") as pbar:\n",
    "        dice_scores = []\n",
    "        for moving_file in files_to_process:\n",
    "            moving_image = itk.imread(moving_file, itk.F)\n",
    "            moving_label = itk.imread(os.path.join(label_path, os.path.basename(moving_file).replace('.nii.gz', '_3C.nii.gz')), itk.F)\n",
    "            # Create a parameter object\n",
    "            parameter_object = itk.ParameterObject.New()\n",
    "            parameter_object.AddParameterFile(\"parameters/9/Parameters.Par0009.affine.txt\")\n",
    "            result_image, result_transform_parameters = itk.elastix_registration_method(\n",
    "                fixed_image, moving_image,\n",
    "                parameter_object=parameter_object,\n",
    "                log_to_console=False)\n",
    "            # set the ResampleInterpolator of the result_transform_parameter to \"FinalNearestNeighborInterpolator\"\n",
    "            result_transform_parameters.SetParameter(\"ResampleInterpolator\", [\"FinalNearestNeighborInterpolator\"])\n",
    "            # use the result_transform_parameters to transform the moving image\n",
    "            result_label = itk.transformix_filter(moving_label, result_transform_parameters)\n",
    "            # Calculate dice score between fixed label and transformed moving label\n",
    "            dice_score = calculate_dice_coefficient(\n",
    "                itk.GetArrayFromImage(fixed_label),\n",
    "                itk.GetArrayFromImage(result_label)\n",
    "            )\n",
    "            dice_scores.append(dice_score)\n",
    "            pbar.update(1)\n",
    "    # Store average dice score for this fixed image\n",
    "    avg_dice = np.mean(dice_scores)\n",
    "    best_scores[fixed_file] = avg_dice\n",
    "    print(f\"Average Dice Score for fixed image {fixed_file}: {avg_dice}\")\n",
    "    \n",
    "# Find the best fixed image\n",
    "best_fixed_image = max(best_scores.items(), key=lambda x: x[1])\n",
    "print(f\"\\nBest fixed image: {best_fixed_image[0]} with average dice score: {best_fixed_image[1]}\")"
   ]
  },
  {
   "cell_type": "markdown",
   "metadata": {},
   "source": [
    "# Registration One vs Rest param:9 elastic"
   ]
  },
  {
   "cell_type": "code",
   "execution_count": 5,
   "metadata": {},
   "outputs": [
    {
     "name": "stderr",
     "output_type": "stream",
     "text": [
      "Registration Progress: 100%|██████████| 14/14 [02:10<00:00,  9.31s/it]\n",
      "Fixed Images:   7%|▋         | 1/15 [02:10<30:27, 130.54s/it]"
     ]
    },
    {
     "name": "stdout",
     "output_type": "stream",
     "text": [
      "Average Dice Score for fixed image 1000.nii.gz: 0.4156139222486543\n"
     ]
    },
    {
     "name": "stderr",
     "output_type": "stream",
     "text": [
      "Registration Progress: 100%|██████████| 14/14 [01:51<00:00,  7.99s/it]\n",
      "Fixed Images:  13%|█▎        | 2/15 [04:02<25:55, 119.62s/it]"
     ]
    },
    {
     "name": "stdout",
     "output_type": "stream",
     "text": [
      "Average Dice Score for fixed image 1001.nii.gz: 0.30718936953065096\n"
     ]
    },
    {
     "name": "stderr",
     "output_type": "stream",
     "text": [
      "Registration Progress: 100%|██████████| 14/14 [01:46<00:00,  7.63s/it]\n",
      "Fixed Images:  20%|██        | 3/15 [05:49<22:45, 113.83s/it]"
     ]
    },
    {
     "name": "stdout",
     "output_type": "stream",
     "text": [
      "Average Dice Score for fixed image 1002.nii.gz: 0.2206677326684124\n"
     ]
    },
    {
     "name": "stderr",
     "output_type": "stream",
     "text": [
      "Registration Progress: 100%|██████████| 14/14 [02:13<00:00,  9.51s/it]\n",
      "Fixed Images:  27%|██▋       | 4/15 [08:02<22:16, 121.49s/it]"
     ]
    },
    {
     "name": "stdout",
     "output_type": "stream",
     "text": [
      "Average Dice Score for fixed image 1006.nii.gz: 0.3783815154001391\n"
     ]
    },
    {
     "name": "stderr",
     "output_type": "stream",
     "text": [
      "Registration Progress: 100%|██████████| 14/14 [02:12<00:00,  9.45s/it]\n",
      "Fixed Images:  33%|███▎      | 5/15 [10:15<20:54, 125.46s/it]"
     ]
    },
    {
     "name": "stdout",
     "output_type": "stream",
     "text": [
      "Average Dice Score for fixed image 1007.nii.gz: 0.358899718942851\n"
     ]
    },
    {
     "name": "stderr",
     "output_type": "stream",
     "text": [
      "Registration Progress: 100%|██████████| 14/14 [01:57<00:00,  8.39s/it]\n",
      "Fixed Images:  40%|████      | 6/15 [12:12<18:25, 122.78s/it]"
     ]
    },
    {
     "name": "stdout",
     "output_type": "stream",
     "text": [
      "Average Dice Score for fixed image 1008.nii.gz: 0.3408650538399554\n"
     ]
    },
    {
     "name": "stderr",
     "output_type": "stream",
     "text": [
      "Registration Progress: 100%|██████████| 14/14 [02:06<00:00,  9.06s/it]\n",
      "Fixed Images:  47%|████▋     | 7/15 [14:19<16:33, 124.14s/it]"
     ]
    },
    {
     "name": "stdout",
     "output_type": "stream",
     "text": [
      "Average Dice Score for fixed image 1009.nii.gz: 0.3370785209478755\n"
     ]
    },
    {
     "name": "stderr",
     "output_type": "stream",
     "text": [
      "Registration Progress: 100%|██████████| 14/14 [01:48<00:00,  7.74s/it]\n",
      "Fixed Images:  53%|█████▎    | 8/15 [16:08<13:54, 119.16s/it]"
     ]
    },
    {
     "name": "stdout",
     "output_type": "stream",
     "text": [
      "Average Dice Score for fixed image 1010.nii.gz: 0.2754099996801856\n"
     ]
    },
    {
     "name": "stderr",
     "output_type": "stream",
     "text": [
      "Registration Progress: 100%|██████████| 14/14 [02:10<00:00,  9.31s/it]\n",
      "Fixed Images:  60%|██████    | 9/15 [18:18<12:16, 122.72s/it]"
     ]
    },
    {
     "name": "stdout",
     "output_type": "stream",
     "text": [
      "Average Dice Score for fixed image 1011.nii.gz: 0.40636283790365685\n"
     ]
    },
    {
     "name": "stderr",
     "output_type": "stream",
     "text": [
      "Registration Progress: 100%|██████████| 14/14 [02:11<00:00,  9.37s/it]\n",
      "Fixed Images:  67%|██████▋   | 10/15 [20:30<10:26, 125.38s/it]"
     ]
    },
    {
     "name": "stdout",
     "output_type": "stream",
     "text": [
      "Average Dice Score for fixed image 1012.nii.gz: 0.34567579959867795\n"
     ]
    },
    {
     "name": "stderr",
     "output_type": "stream",
     "text": [
      "Registration Progress: 100%|██████████| 14/14 [02:19<00:00,  9.97s/it]\n",
      "Fixed Images:  73%|███████▎  | 11/15 [22:49<08:39, 129.77s/it]"
     ]
    },
    {
     "name": "stdout",
     "output_type": "stream",
     "text": [
      "Average Dice Score for fixed image 1013.nii.gz: 0.4508796255660966\n"
     ]
    },
    {
     "name": "stderr",
     "output_type": "stream",
     "text": [
      "Registration Progress: 100%|██████████| 14/14 [02:09<00:00,  9.23s/it]\n",
      "Fixed Images:  80%|████████  | 12/15 [24:59<06:28, 129.65s/it]"
     ]
    },
    {
     "name": "stdout",
     "output_type": "stream",
     "text": [
      "Average Dice Score for fixed image 1014.nii.gz: 0.26606950177314476\n"
     ]
    },
    {
     "name": "stderr",
     "output_type": "stream",
     "text": [
      "Registration Progress: 100%|██████████| 14/14 [02:09<00:00,  9.28s/it]\n",
      "Fixed Images:  87%|████████▋ | 13/15 [27:09<04:19, 129.77s/it]"
     ]
    },
    {
     "name": "stdout",
     "output_type": "stream",
     "text": [
      "Average Dice Score for fixed image 1015.nii.gz: 0.33949400002379887\n"
     ]
    },
    {
     "name": "stderr",
     "output_type": "stream",
     "text": [
      "Registration Progress: 100%|██████████| 14/14 [01:50<00:00,  7.86s/it]\n",
      "Fixed Images:  93%|█████████▎| 14/15 [28:59<02:03, 123.87s/it]"
     ]
    },
    {
     "name": "stdout",
     "output_type": "stream",
     "text": [
      "Average Dice Score for fixed image 1017.nii.gz: 0.24041808190085753\n"
     ]
    },
    {
     "name": "stderr",
     "output_type": "stream",
     "text": [
      "Registration Progress: 100%|██████████| 14/14 [02:03<00:00,  8.82s/it]\n",
      "Fixed Images: 100%|██████████| 15/15 [31:03<00:00, 124.21s/it]"
     ]
    },
    {
     "name": "stdout",
     "output_type": "stream",
     "text": [
      "Average Dice Score for fixed image 1036.nii.gz: 0.2963839623782875\n",
      "\n",
      "Best fixed image: 1013.nii.gz with average dice score: 0.4508796255660966\n"
     ]
    },
    {
     "name": "stderr",
     "output_type": "stream",
     "text": [
      "\n"
     ]
    }
   ],
   "source": [
    "best_scores = {}\n",
    "folder_path = 'training-set/training-images/'\n",
    "label_path = 'training-set/training-labels/'\n",
    "# Iterate through each potential fixed image\n",
    "for fixed_file in tqdm(os.listdir(folder_path), desc=\"Fixed Images\"):\n",
    "    if not fixed_file.endswith(('.nii', '.nii.gz')):\n",
    "        continue\n",
    "    fixed_image = itk.imread(os.path.join(folder_path, fixed_file), itk.F)\n",
    "    fixed_label = itk.imread(os.path.join(label_path, fixed_file.replace('.nii.gz', '_3C.nii.gz')), itk.F)\n",
    "    files_to_process = [os.path.join(folder_path, f) for f in os.listdir(folder_path) if f.endswith(('.nii', '.nii.gz')) and f != fixed_file]\n",
    "    with tqdm(total=len(files_to_process), desc=\"Registration Progress\") as pbar:\n",
    "        dice_scores = []\n",
    "        for moving_file in files_to_process:\n",
    "            moving_image = itk.imread(moving_file, itk.F)\n",
    "            moving_label = itk.imread(os.path.join(label_path, os.path.basename(moving_file).replace('.nii.gz', '_3C.nii.gz')), itk.F)\n",
    "            # Create a parameter object\n",
    "            parameter_object = itk.ParameterObject.New()\n",
    "            parameter_object.AddParameterFile(\"parameters/9/Parameters.Par0009.elastic.txt\")\n",
    "            result_image, result_transform_parameters = itk.elastix_registration_method(\n",
    "                fixed_image, moving_image,\n",
    "                parameter_object=parameter_object,\n",
    "                log_to_console=False)\n",
    "            # set the ResampleInterpolator of the result_transform_parameter to \"FinalNearestNeighborInterpolator\"\n",
    "            result_transform_parameters.SetParameter(\"ResampleInterpolator\", [\"FinalNearestNeighborInterpolator\"])\n",
    "            # use the result_transform_parameters to transform the moving image\n",
    "            result_label = itk.transformix_filter(moving_label, result_transform_parameters)\n",
    "            # Calculate dice score between fixed label and transformed moving label\n",
    "            dice_score = calculate_dice_coefficient(\n",
    "                itk.GetArrayFromImage(fixed_label),\n",
    "                itk.GetArrayFromImage(result_label)\n",
    "            )\n",
    "            dice_scores.append(dice_score)\n",
    "            pbar.update(1)\n",
    "    # Store average dice score for this fixed image\n",
    "    avg_dice = np.mean(dice_scores)\n",
    "    best_scores[fixed_file] = avg_dice\n",
    "    print(f\"Average Dice Score for fixed image {fixed_file}: {avg_dice}\")\n",
    "    \n",
    "# Find the best fixed image\n",
    "best_fixed_image = max(best_scores.items(), key=lambda x: x[1])\n",
    "print(f\"\\nBest fixed image: {best_fixed_image[0]} with average dice score: {best_fixed_image[1]}\")"
   ]
  },
  {
   "cell_type": "markdown",
   "metadata": {},
   "source": [
    "# Registration One vs Rest param:9 affine + elastic"
   ]
  },
  {
   "cell_type": "code",
   "execution_count": 6,
   "metadata": {},
   "outputs": [
    {
     "name": "stderr",
     "output_type": "stream",
     "text": [
      "Registration Progress: 100%|██████████| 14/14 [04:18<00:00, 18.49s/it]\n",
      "Fixed Images:   7%|▋         | 1/15 [04:19<1:00:26, 259.06s/it]"
     ]
    },
    {
     "name": "stdout",
     "output_type": "stream",
     "text": [
      "Average Dice Score for fixed image 1000.nii.gz: 0.7402161430061612\n"
     ]
    },
    {
     "name": "stderr",
     "output_type": "stream",
     "text": [
      "Registration Progress: 100%|██████████| 14/14 [04:13<00:00, 18.11s/it]\n",
      "Fixed Images:  13%|█▎        | 2/15 [08:32<55:26, 255.88s/it]  "
     ]
    },
    {
     "name": "stdout",
     "output_type": "stream",
     "text": [
      "Average Dice Score for fixed image 1001.nii.gz: 0.7396773613127138\n"
     ]
    },
    {
     "name": "stderr",
     "output_type": "stream",
     "text": [
      "Registration Progress: 100%|██████████| 14/14 [04:15<00:00, 18.23s/it]\n",
      "Fixed Images:  20%|██        | 3/15 [12:48<51:07, 255.66s/it]"
     ]
    },
    {
     "name": "stdout",
     "output_type": "stream",
     "text": [
      "Average Dice Score for fixed image 1002.nii.gz: 0.7469237417600432\n"
     ]
    },
    {
     "name": "stderr",
     "output_type": "stream",
     "text": [
      "Registration Progress: 100%|██████████| 14/14 [04:19<00:00, 18.53s/it]\n",
      "Fixed Images:  27%|██▋       | 4/15 [17:07<47:09, 257.22s/it]"
     ]
    },
    {
     "name": "stdout",
     "output_type": "stream",
     "text": [
      "Average Dice Score for fixed image 1006.nii.gz: 0.7358695162613758\n"
     ]
    },
    {
     "name": "stderr",
     "output_type": "stream",
     "text": [
      "Registration Progress: 100%|██████████| 14/14 [04:37<00:00, 19.79s/it]\n",
      "Fixed Images:  33%|███▎      | 5/15 [21:44<44:04, 264.45s/it]"
     ]
    },
    {
     "name": "stdout",
     "output_type": "stream",
     "text": [
      "Average Dice Score for fixed image 1007.nii.gz: 0.7308097757827566\n"
     ]
    },
    {
     "name": "stderr",
     "output_type": "stream",
     "text": [
      "Registration Progress: 100%|██████████| 14/14 [04:43<00:00, 20.26s/it]\n",
      "Fixed Images:  40%|████      | 6/15 [26:28<40:39, 271.03s/it]"
     ]
    },
    {
     "name": "stdout",
     "output_type": "stream",
     "text": [
      "Average Dice Score for fixed image 1008.nii.gz: 0.7554227311225159\n"
     ]
    },
    {
     "name": "stderr",
     "output_type": "stream",
     "text": [
      "Registration Progress: 100%|██████████| 14/14 [04:39<00:00, 19.93s/it]\n",
      "Fixed Images:  47%|████▋     | 7/15 [31:07<36:29, 273.69s/it]"
     ]
    },
    {
     "name": "stdout",
     "output_type": "stream",
     "text": [
      "Average Dice Score for fixed image 1009.nii.gz: 0.7344351731434579\n"
     ]
    },
    {
     "name": "stderr",
     "output_type": "stream",
     "text": [
      "Registration Progress: 100%|██████████| 14/14 [04:22<00:00, 18.73s/it]\n",
      "Fixed Images:  53%|█████▎    | 8/15 [35:30<31:30, 270.11s/it]"
     ]
    },
    {
     "name": "stdout",
     "output_type": "stream",
     "text": [
      "Average Dice Score for fixed image 1010.nii.gz: 0.7376725221687097\n"
     ]
    },
    {
     "name": "stderr",
     "output_type": "stream",
     "text": [
      "Registration Progress: 100%|██████████| 14/14 [04:43<00:00, 20.26s/it]\n",
      "Fixed Images:  60%|██████    | 9/15 [40:14<27:26, 274.37s/it]"
     ]
    },
    {
     "name": "stdout",
     "output_type": "stream",
     "text": [
      "Average Dice Score for fixed image 1011.nii.gz: 0.7535308885899104\n"
     ]
    },
    {
     "name": "stderr",
     "output_type": "stream",
     "text": [
      "Registration Progress: 100%|██████████| 14/14 [04:07<00:00, 17.68s/it]\n",
      "Fixed Images:  67%|██████▋   | 10/15 [44:21<22:10, 266.11s/it]"
     ]
    },
    {
     "name": "stdout",
     "output_type": "stream",
     "text": [
      "Average Dice Score for fixed image 1012.nii.gz: 0.6958709145653638\n"
     ]
    },
    {
     "name": "stderr",
     "output_type": "stream",
     "text": [
      "Registration Progress: 100%|██████████| 14/14 [04:47<00:00, 20.50s/it]\n",
      "Fixed Images:  73%|███████▎  | 11/15 [49:08<18:10, 272.57s/it]"
     ]
    },
    {
     "name": "stdout",
     "output_type": "stream",
     "text": [
      "Average Dice Score for fixed image 1013.nii.gz: 0.7609444625479485\n"
     ]
    },
    {
     "name": "stderr",
     "output_type": "stream",
     "text": [
      "Registration Progress: 100%|██████████| 14/14 [04:49<00:00, 20.67s/it]\n",
      "Fixed Images:  80%|████████  | 12/15 [53:58<13:53, 277.75s/it]"
     ]
    },
    {
     "name": "stdout",
     "output_type": "stream",
     "text": [
      "Average Dice Score for fixed image 1014.nii.gz: 0.7344939642770966\n"
     ]
    },
    {
     "name": "stderr",
     "output_type": "stream",
     "text": [
      "Registration Progress: 100%|██████████| 14/14 [04:40<00:00, 20.02s/it]\n",
      "Fixed Images:  87%|████████▋ | 13/15 [58:39<09:17, 278.58s/it]"
     ]
    },
    {
     "name": "stdout",
     "output_type": "stream",
     "text": [
      "Average Dice Score for fixed image 1015.nii.gz: 0.7395430800199587\n"
     ]
    },
    {
     "name": "stderr",
     "output_type": "stream",
     "text": [
      "Registration Progress: 100%|██████████| 14/14 [04:51<00:00, 20.81s/it]\n",
      "Fixed Images:  93%|█████████▎| 14/15 [1:03:30<04:42, 282.50s/it]"
     ]
    },
    {
     "name": "stdout",
     "output_type": "stream",
     "text": [
      "Average Dice Score for fixed image 1017.nii.gz: 0.7638160672010655\n"
     ]
    },
    {
     "name": "stderr",
     "output_type": "stream",
     "text": [
      "Registration Progress: 100%|██████████| 14/14 [03:24<00:00, 14.61s/it]\n",
      "Fixed Images: 100%|██████████| 15/15 [1:06:55<00:00, 267.69s/it]"
     ]
    },
    {
     "name": "stdout",
     "output_type": "stream",
     "text": [
      "Average Dice Score for fixed image 1036.nii.gz: 0.7006415322977624\n",
      "\n",
      "Best fixed image: 1017.nii.gz with average dice score: 0.7638160672010655\n"
     ]
    },
    {
     "name": "stderr",
     "output_type": "stream",
     "text": [
      "\n"
     ]
    }
   ],
   "source": [
    "best_scores = {}\n",
    "folder_path = 'training-set/training-images/'\n",
    "label_path = 'training-set/training-labels/'\n",
    "# Iterate through each potential fixed image\n",
    "for fixed_file in tqdm(os.listdir(folder_path), desc=\"Fixed Images\"):\n",
    "    if not fixed_file.endswith(('.nii', '.nii.gz')):\n",
    "        continue\n",
    "    fixed_image = itk.imread(os.path.join(folder_path, fixed_file), itk.F)\n",
    "    fixed_label = itk.imread(os.path.join(label_path, fixed_file.replace('.nii.gz', '_3C.nii.gz')), itk.F)\n",
    "    files_to_process = [os.path.join(folder_path, f) for f in os.listdir(folder_path) if f.endswith(('.nii', '.nii.gz')) and f != fixed_file]\n",
    "    with tqdm(total=len(files_to_process), desc=\"Registration Progress\") as pbar:\n",
    "        dice_scores = []\n",
    "        for moving_file in files_to_process:\n",
    "            moving_image = itk.imread(moving_file, itk.F)\n",
    "            moving_label = itk.imread(os.path.join(label_path, os.path.basename(moving_file).replace('.nii.gz', '_3C.nii.gz')), itk.F)\n",
    "            # Create a parameter object\n",
    "            parameter_object = itk.ParameterObject.New()\n",
    "            parameter_object.AddParameterFile(\"parameters/9/Parameters.Par0009.affine.txt\")\n",
    "            # add elastic transformation\n",
    "            parameter_object.AddParameterFile(\"parameters/9/Parameters.Par0009.elastic.txt\")\n",
    "            result_image, result_transform_parameters = itk.elastix_registration_method(\n",
    "                fixed_image, moving_image,\n",
    "                parameter_object=parameter_object,\n",
    "                log_to_console=False)\n",
    "            # set the ResampleInterpolator of the result_transform_parameter to \"FinalNearestNeighborInterpolator\"\n",
    "            result_transform_parameters.SetParameter(\"ResampleInterpolator\", [\"FinalNearestNeighborInterpolator\"])\n",
    "            # use the result_transform_parameters to transform the moving image\n",
    "            result_label = itk.transformix_filter(moving_label, result_transform_parameters)\n",
    "            # Calculate dice score between fixed label and transformed moving label\n",
    "            dice_score = calculate_dice_coefficient(\n",
    "                itk.GetArrayFromImage(fixed_label),\n",
    "                itk.GetArrayFromImage(result_label)\n",
    "            )\n",
    "            dice_scores.append(dice_score)\n",
    "            pbar.update(1)\n",
    "    # Store average dice score for this fixed image\n",
    "    avg_dice = np.mean(dice_scores)\n",
    "    best_scores[fixed_file] = avg_dice\n",
    "    print(f\"Average Dice Score for fixed image {fixed_file}: {avg_dice}\")\n",
    "    \n",
    "# Find the best fixed image\n",
    "best_fixed_image = max(best_scores.items(), key=lambda x: x[1])\n",
    "print(f\"\\nBest fixed image: {best_fixed_image[0]} with average dice score: {best_fixed_image[1]}\")"
   ]
  },
  {
   "cell_type": "markdown",
   "metadata": {},
   "source": [
    "# Registration One vs Rest param:9 affine + bspline"
   ]
  },
  {
   "cell_type": "code",
   "execution_count": 9,
   "metadata": {},
   "outputs": [
    {
     "name": "stderr",
     "output_type": "stream",
     "text": [
      "Registration Progress: 100%|██████████| 14/14 [05:23<00:00, 23.12s/it]\n",
      "Fixed Images:   7%|▋         | 1/15 [05:23<1:15:35, 323.94s/it]"
     ]
    },
    {
     "name": "stdout",
     "output_type": "stream",
     "text": [
      "Average Dice Score for fixed image 1000.nii.gz: 0.7100183597315913\n"
     ]
    },
    {
     "name": "stderr",
     "output_type": "stream",
     "text": [
      "Registration Progress: 100%|██████████| 14/14 [05:04<00:00, 21.74s/it]\n",
      "Fixed Images:  13%|█▎        | 2/15 [10:28<1:07:42, 312.54s/it]"
     ]
    },
    {
     "name": "stdout",
     "output_type": "stream",
     "text": [
      "Average Dice Score for fixed image 1001.nii.gz: 0.7097587588543124\n"
     ]
    },
    {
     "name": "stderr",
     "output_type": "stream",
     "text": [
      "Registration Progress: 100%|██████████| 14/14 [05:09<00:00, 22.14s/it]\n",
      "Fixed Images:  20%|██        | 3/15 [15:38<1:02:17, 311.43s/it]"
     ]
    },
    {
     "name": "stdout",
     "output_type": "stream",
     "text": [
      "Average Dice Score for fixed image 1002.nii.gz: 0.7168896981697996\n"
     ]
    },
    {
     "name": "stderr",
     "output_type": "stream",
     "text": [
      "Registration Progress: 100%|██████████| 14/14 [05:37<00:00, 24.13s/it]\n",
      "Fixed Images:  27%|██▋       | 4/15 [21:16<59:01, 321.94s/it]  "
     ]
    },
    {
     "name": "stdout",
     "output_type": "stream",
     "text": [
      "Average Dice Score for fixed image 1006.nii.gz: 0.7030667322676666\n"
     ]
    },
    {
     "name": "stderr",
     "output_type": "stream",
     "text": [
      "Registration Progress: 100%|██████████| 14/14 [05:42<00:00, 24.48s/it]\n",
      "Fixed Images:  33%|███▎      | 5/15 [26:59<54:54, 329.48s/it]"
     ]
    },
    {
     "name": "stdout",
     "output_type": "stream",
     "text": [
      "Average Dice Score for fixed image 1007.nii.gz: 0.7021498032044036\n"
     ]
    },
    {
     "name": "stderr",
     "output_type": "stream",
     "text": [
      "Registration Progress: 100%|██████████| 14/14 [05:14<00:00, 22.46s/it]\n",
      "Fixed Images:  40%|████      | 6/15 [32:14<48:39, 324.44s/it]"
     ]
    },
    {
     "name": "stdout",
     "output_type": "stream",
     "text": [
      "Average Dice Score for fixed image 1008.nii.gz: 0.7221556485470869\n"
     ]
    },
    {
     "name": "stderr",
     "output_type": "stream",
     "text": [
      "Registration Progress: 100%|██████████| 14/14 [05:25<00:00, 23.25s/it]\n",
      "Fixed Images:  47%|████▋     | 7/15 [37:39<43:18, 324.85s/it]"
     ]
    },
    {
     "name": "stdout",
     "output_type": "stream",
     "text": [
      "Average Dice Score for fixed image 1009.nii.gz: 0.709284107631721\n"
     ]
    },
    {
     "name": "stderr",
     "output_type": "stream",
     "text": [
      "Registration Progress: 100%|██████████| 14/14 [05:06<00:00, 21.86s/it]\n",
      "Fixed Images:  53%|█████▎    | 8/15 [42:46<37:12, 318.90s/it]"
     ]
    },
    {
     "name": "stdout",
     "output_type": "stream",
     "text": [
      "Average Dice Score for fixed image 1010.nii.gz: 0.700696486192321\n"
     ]
    },
    {
     "name": "stderr",
     "output_type": "stream",
     "text": [
      "Registration Progress: 100%|██████████| 14/14 [05:17<00:00, 22.71s/it]\n",
      "Fixed Images:  60%|██████    | 9/15 [48:04<31:51, 318.64s/it]"
     ]
    },
    {
     "name": "stdout",
     "output_type": "stream",
     "text": [
      "Average Dice Score for fixed image 1011.nii.gz: 0.7118736554182872\n"
     ]
    },
    {
     "name": "stderr",
     "output_type": "stream",
     "text": [
      "Registration Progress: 100%|██████████| 14/14 [05:23<00:00, 23.11s/it]\n",
      "Fixed Images:  67%|██████▋   | 10/15 [53:27<26:41, 320.21s/it]"
     ]
    },
    {
     "name": "stdout",
     "output_type": "stream",
     "text": [
      "Average Dice Score for fixed image 1012.nii.gz: 0.6859334648948179\n"
     ]
    },
    {
     "name": "stderr",
     "output_type": "stream",
     "text": [
      "Registration Progress: 100%|██████████| 14/14 [04:55<00:00, 21.09s/it]\n",
      "Fixed Images:  73%|███████▎  | 11/15 [58:23<20:50, 312.60s/it]"
     ]
    },
    {
     "name": "stdout",
     "output_type": "stream",
     "text": [
      "Average Dice Score for fixed image 1013.nii.gz: 0.7192973814515069\n"
     ]
    },
    {
     "name": "stderr",
     "output_type": "stream",
     "text": [
      "Registration Progress: 100%|██████████| 14/14 [04:48<00:00, 20.59s/it]\n",
      "Fixed Images:  80%|████████  | 12/15 [1:03:11<15:15, 305.22s/it]"
     ]
    },
    {
     "name": "stdout",
     "output_type": "stream",
     "text": [
      "Average Dice Score for fixed image 1014.nii.gz: 0.7020690842620868\n"
     ]
    },
    {
     "name": "stderr",
     "output_type": "stream",
     "text": [
      "Registration Progress: 100%|██████████| 14/14 [05:25<00:00, 23.28s/it]\n",
      "Fixed Images:  87%|████████▋ | 13/15 [1:08:37<10:23, 311.55s/it]"
     ]
    },
    {
     "name": "stdout",
     "output_type": "stream",
     "text": [
      "Average Dice Score for fixed image 1015.nii.gz: 0.7135812041741622\n"
     ]
    },
    {
     "name": "stderr",
     "output_type": "stream",
     "text": [
      "Registration Progress: 100%|██████████| 14/14 [04:37<00:00, 19.85s/it]\n",
      "Fixed Images:  93%|█████████▎| 14/15 [1:13:15<05:01, 301.43s/it]"
     ]
    },
    {
     "name": "stdout",
     "output_type": "stream",
     "text": [
      "Average Dice Score for fixed image 1017.nii.gz: 0.7138086775397741\n"
     ]
    },
    {
     "name": "stderr",
     "output_type": "stream",
     "text": [
      "Registration Progress: 100%|██████████| 14/14 [05:13<00:00, 22.43s/it]\n",
      "Fixed Images: 100%|██████████| 15/15 [1:18:29<00:00, 313.98s/it]"
     ]
    },
    {
     "name": "stdout",
     "output_type": "stream",
     "text": [
      "Average Dice Score for fixed image 1036.nii.gz: 0.6797079163162565\n",
      "\n",
      "Best fixed image: 1008.nii.gz with average dice score: 0.7221556485470869\n"
     ]
    },
    {
     "name": "stderr",
     "output_type": "stream",
     "text": [
      "\n"
     ]
    }
   ],
   "source": [
    "best_scores = {}\n",
    "folder_path = 'training-set/training-images/'\n",
    "label_path = 'training-set/training-labels/'\n",
    "# Iterate through each potential fixed image\n",
    "for fixed_file in tqdm(os.listdir(folder_path), desc=\"Fixed Images\"):\n",
    "    if not fixed_file.endswith(('.nii', '.nii.gz')):\n",
    "        continue\n",
    "    fixed_image = itk.imread(os.path.join(folder_path, fixed_file), itk.F)\n",
    "    fixed_label = itk.imread(os.path.join(label_path, fixed_file.replace('.nii.gz', '_3C.nii.gz')), itk.F)\n",
    "    files_to_process = [os.path.join(folder_path, f) for f in os.listdir(folder_path) if f.endswith(('.nii', '.nii.gz')) and f != fixed_file]\n",
    "    with tqdm(total=len(files_to_process), desc=\"Registration Progress\") as pbar:\n",
    "        dice_scores = []\n",
    "        for moving_file in files_to_process:\n",
    "            moving_image = itk.imread(moving_file, itk.F)\n",
    "            moving_label = itk.imread(os.path.join(label_path, os.path.basename(moving_file).replace('.nii.gz', '_3C.nii.gz')), itk.F)\n",
    "            # Create a parameter object\n",
    "            parameter_object = itk.ParameterObject.New()\n",
    "            parameter_object.AddParameterFile(\"parameters/9/Parameters.Par0009.affine.txt\")\n",
    "            parameter_object.AddParameterFile(\"parameters/default/Parameters_BSpline.txt\")\n",
    "            result_image, result_transform_parameters = itk.elastix_registration_method(\n",
    "                fixed_image, moving_image,\n",
    "                parameter_object=parameter_object,\n",
    "                log_to_console=False)\n",
    "            # set the ResampleInterpolator of the result_transform_parameter to \"FinalNearestNeighborInterpolator\"\n",
    "            result_transform_parameters.SetParameter(\"ResampleInterpolator\", [\"FinalNearestNeighborInterpolator\"])\n",
    "            # use the result_transform_parameters to transform the moving image\n",
    "            result_label = itk.transformix_filter(moving_label, result_transform_parameters)\n",
    "            # Calculate dice score between fixed label and transformed moving label\n",
    "            dice_score = calculate_dice_coefficient(\n",
    "                itk.GetArrayFromImage(fixed_label),\n",
    "                itk.GetArrayFromImage(result_label)\n",
    "            )\n",
    "            dice_scores.append(dice_score)\n",
    "            pbar.update(1)\n",
    "    # Store average dice score for this fixed image\n",
    "    avg_dice = np.mean(dice_scores)\n",
    "    best_scores[fixed_file] = avg_dice\n",
    "    print(f\"Average Dice Score for fixed image {fixed_file}: {avg_dice}\")\n",
    "    \n",
    "# Find the best fixed image\n",
    "best_fixed_image = max(best_scores.items(), key=lambda x: x[1])\n",
    "print(f\"\\nBest fixed image: {best_fixed_image[0]} with average dice score: {best_fixed_image[1]}\")"
   ]
  },
  {
   "cell_type": "markdown",
   "metadata": {},
   "source": [
    "# Registration One vs Rest param:21 affine"
   ]
  },
  {
   "cell_type": "code",
   "execution_count": 4,
   "metadata": {},
   "outputs": [
    {
     "name": "stderr",
     "output_type": "stream",
     "text": [
      "Registration Progress: 100%|██████████| 14/14 [01:36<00:00,  6.90s/it]\n",
      "Fixed Images:   7%|▋         | 1/15 [01:36<22:34, 96.72s/it]"
     ]
    },
    {
     "name": "stdout",
     "output_type": "stream",
     "text": [
      "Average Dice Score for fixed image 1000.nii.gz: 0.5553149114608946\n"
     ]
    },
    {
     "name": "stderr",
     "output_type": "stream",
     "text": [
      "Registration Progress: 100%|██████████| 14/14 [01:32<00:00,  6.59s/it]\n",
      "Fixed Images:  13%|█▎        | 2/15 [03:09<20:23, 94.15s/it]"
     ]
    },
    {
     "name": "stdout",
     "output_type": "stream",
     "text": [
      "Average Dice Score for fixed image 1001.nii.gz: 0.5882916464795295\n"
     ]
    },
    {
     "name": "stderr",
     "output_type": "stream",
     "text": [
      "Registration Progress: 100%|██████████| 14/14 [01:29<00:00,  6.40s/it]\n",
      "Fixed Images:  20%|██        | 3/15 [04:38<18:25, 92.12s/it]"
     ]
    },
    {
     "name": "stdout",
     "output_type": "stream",
     "text": [
      "Average Dice Score for fixed image 1002.nii.gz: 0.5401945865196722\n"
     ]
    },
    {
     "name": "stderr",
     "output_type": "stream",
     "text": [
      "Registration Progress: 100%|██████████| 14/14 [01:31<00:00,  6.57s/it]\n",
      "Fixed Images:  27%|██▋       | 4/15 [06:10<16:53, 92.10s/it]"
     ]
    },
    {
     "name": "stdout",
     "output_type": "stream",
     "text": [
      "Average Dice Score for fixed image 1006.nii.gz: 0.5842165436315219\n"
     ]
    },
    {
     "name": "stderr",
     "output_type": "stream",
     "text": [
      "Registration Progress: 100%|██████████| 14/14 [01:27<00:00,  6.23s/it]\n",
      "Fixed Images:  33%|███▎      | 5/15 [07:38<15:03, 90.38s/it]"
     ]
    },
    {
     "name": "stdout",
     "output_type": "stream",
     "text": [
      "Average Dice Score for fixed image 1007.nii.gz: 0.5593670547167359\n"
     ]
    },
    {
     "name": "stderr",
     "output_type": "stream",
     "text": [
      "Registration Progress: 100%|██████████| 14/14 [01:29<00:00,  6.37s/it]\n",
      "Fixed Images:  40%|████      | 6/15 [09:07<13:30, 90.04s/it]"
     ]
    },
    {
     "name": "stdout",
     "output_type": "stream",
     "text": [
      "Average Dice Score for fixed image 1008.nii.gz: 0.6246598002356991\n"
     ]
    },
    {
     "name": "stderr",
     "output_type": "stream",
     "text": [
      "Registration Progress: 100%|██████████| 14/14 [01:35<00:00,  6.85s/it]\n",
      "Fixed Images:  47%|████▋     | 7/15 [10:43<12:15, 91.99s/it]"
     ]
    },
    {
     "name": "stdout",
     "output_type": "stream",
     "text": [
      "Average Dice Score for fixed image 1009.nii.gz: 0.5792844566516274\n"
     ]
    },
    {
     "name": "stderr",
     "output_type": "stream",
     "text": [
      "Registration Progress: 100%|██████████| 14/14 [01:40<00:00,  7.21s/it]\n",
      "Fixed Images:  53%|█████▎    | 8/15 [12:24<11:04, 94.89s/it]"
     ]
    },
    {
     "name": "stdout",
     "output_type": "stream",
     "text": [
      "Average Dice Score for fixed image 1010.nii.gz: 0.5928269311584738\n"
     ]
    },
    {
     "name": "stderr",
     "output_type": "stream",
     "text": [
      "Registration Progress: 100%|██████████| 14/14 [01:41<00:00,  7.25s/it]\n",
      "Fixed Images:  60%|██████    | 9/15 [14:06<09:41, 96.99s/it]"
     ]
    },
    {
     "name": "stdout",
     "output_type": "stream",
     "text": [
      "Average Dice Score for fixed image 1011.nii.gz: 0.6103024458783741\n"
     ]
    },
    {
     "name": "stderr",
     "output_type": "stream",
     "text": [
      "Registration Progress: 100%|██████████| 14/14 [01:32<00:00,  6.62s/it]\n",
      "Fixed Images:  67%|██████▋   | 10/15 [15:39<07:58, 95.72s/it]"
     ]
    },
    {
     "name": "stdout",
     "output_type": "stream",
     "text": [
      "Average Dice Score for fixed image 1012.nii.gz: 0.5445252809466365\n"
     ]
    },
    {
     "name": "stderr",
     "output_type": "stream",
     "text": [
      "Registration Progress: 100%|██████████| 14/14 [01:34<00:00,  6.72s/it]\n",
      "Fixed Images:  73%|███████▎  | 11/15 [17:13<06:21, 95.28s/it]"
     ]
    },
    {
     "name": "stdout",
     "output_type": "stream",
     "text": [
      "Average Dice Score for fixed image 1013.nii.gz: 0.6103686975148436\n"
     ]
    },
    {
     "name": "stderr",
     "output_type": "stream",
     "text": [
      "Registration Progress: 100%|██████████| 14/14 [01:39<00:00,  7.12s/it]\n",
      "Fixed Images:  80%|████████  | 12/15 [18:53<04:50, 96.68s/it]"
     ]
    },
    {
     "name": "stdout",
     "output_type": "stream",
     "text": [
      "Average Dice Score for fixed image 1014.nii.gz: 0.5896646750369585\n"
     ]
    },
    {
     "name": "stderr",
     "output_type": "stream",
     "text": [
      "Registration Progress: 100%|██████████| 14/14 [01:43<00:00,  7.42s/it]\n",
      "Fixed Images:  87%|████████▋ | 13/15 [20:37<03:17, 98.90s/it]"
     ]
    },
    {
     "name": "stdout",
     "output_type": "stream",
     "text": [
      "Average Dice Score for fixed image 1015.nii.gz: 0.5964670604065407\n"
     ]
    },
    {
     "name": "stderr",
     "output_type": "stream",
     "text": [
      "Registration Progress: 100%|██████████| 14/14 [01:39<00:00,  7.10s/it]\n",
      "Fixed Images:  93%|█████████▎| 14/15 [22:16<01:39, 99.10s/it]"
     ]
    },
    {
     "name": "stdout",
     "output_type": "stream",
     "text": [
      "Average Dice Score for fixed image 1017.nii.gz: 0.5668553097199521\n"
     ]
    },
    {
     "name": "stderr",
     "output_type": "stream",
     "text": [
      "Registration Progress: 100%|██████████| 14/14 [01:44<00:00,  7.47s/it]\n",
      "Fixed Images: 100%|██████████| 15/15 [24:01<00:00, 96.11s/it] "
     ]
    },
    {
     "name": "stdout",
     "output_type": "stream",
     "text": [
      "Average Dice Score for fixed image 1036.nii.gz: 0.5266673331773413\n",
      "\n",
      "Best fixed image: 1008.nii.gz with average dice score: 0.6246598002356991\n"
     ]
    },
    {
     "name": "stderr",
     "output_type": "stream",
     "text": [
      "\n"
     ]
    }
   ],
   "source": [
    "best_scores = {}\n",
    "folder_path = 'training-set/training-images/'\n",
    "label_path = 'training-set/training-labels/'\n",
    "# Iterate through each potential fixed image\n",
    "for fixed_file in tqdm(os.listdir(folder_path), desc=\"Fixed Images\"):\n",
    "    if not fixed_file.endswith(('.nii', '.nii.gz')):\n",
    "        continue\n",
    "    fixed_image = itk.imread(os.path.join(folder_path, fixed_file), itk.F)\n",
    "    fixed_label = itk.imread(os.path.join(label_path, fixed_file.replace('.nii.gz', '_3C.nii.gz')), itk.F)\n",
    "    files_to_process = [os.path.join(folder_path, f) for f in os.listdir(folder_path) if f.endswith(('.nii', '.nii.gz')) and f != fixed_file]\n",
    "    with tqdm(total=len(files_to_process), desc=\"Registration Progress\") as pbar:\n",
    "        dice_scores = []\n",
    "        for moving_file in files_to_process:\n",
    "            moving_image = itk.imread(moving_file, itk.F)\n",
    "            moving_label = itk.imread(os.path.join(label_path, os.path.basename(moving_file).replace('.nii.gz', '_3C.nii.gz')), itk.F)\n",
    "            # Create a parameter object\n",
    "            parameter_object = itk.ParameterObject.New()\n",
    "            parameter_object.AddParameterFile(\"parameters/21/Par0021_affine.txt\")\n",
    "            result_image, result_transform_parameters = itk.elastix_registration_method(\n",
    "                fixed_image, moving_image,\n",
    "                parameter_object=parameter_object,\n",
    "                log_to_console=False)\n",
    "            # set the ResampleInterpolator of the result_transform_parameter to \"FinalNearestNeighborInterpolator\"\n",
    "            result_transform_parameters.SetParameter(\"ResampleInterpolator\", [\"FinalNearestNeighborInterpolator\"])\n",
    "            # use the result_transform_parameters to transform the moving image\n",
    "            result_label = itk.transformix_filter(moving_label, result_transform_parameters)\n",
    "            # Calculate dice score between fixed label and transformed moving label\n",
    "            dice_score = calculate_dice_coefficient(\n",
    "                itk.GetArrayFromImage(fixed_label),\n",
    "                itk.GetArrayFromImage(result_label)\n",
    "            )\n",
    "            dice_scores.append(dice_score)\n",
    "            pbar.update(1)\n",
    "    # Store average dice score for this fixed image\n",
    "    avg_dice = np.mean(dice_scores)\n",
    "    best_scores[fixed_file] = avg_dice\n",
    "    print(f\"Average Dice Score for fixed image {fixed_file}: {avg_dice}\")\n",
    "    \n",
    "# Find the best fixed image\n",
    "best_fixed_image = max(best_scores.items(), key=lambda x: x[1])\n",
    "print(f\"\\nBest fixed image: {best_fixed_image[0]} with average dice score: {best_fixed_image[1]}\")"
   ]
  },
  {
   "cell_type": "markdown",
   "metadata": {},
   "source": [
    "# Registration One vs Rest param:21 affine + 9 elastic"
   ]
  },
  {
   "cell_type": "code",
   "execution_count": 7,
   "metadata": {},
   "outputs": [
    {
     "name": "stderr",
     "output_type": "stream",
     "text": [
      "Registration Progress: 100%|██████████| 14/14 [05:48<00:00, 24.89s/it]\n",
      "Fixed Images:   7%|▋         | 1/15 [05:48<1:21:20, 348.63s/it]"
     ]
    },
    {
     "name": "stdout",
     "output_type": "stream",
     "text": [
      "Average Dice Score for fixed image 1000.nii.gz: 0.7456871766113492\n"
     ]
    },
    {
     "name": "stderr",
     "output_type": "stream",
     "text": [
      "Registration Progress: 100%|██████████| 14/14 [05:31<00:00, 23.66s/it]\n",
      "Fixed Images:  13%|█▎        | 2/15 [11:19<1:13:20, 338.47s/it]"
     ]
    },
    {
     "name": "stdout",
     "output_type": "stream",
     "text": [
      "Average Dice Score for fixed image 1001.nii.gz: 0.7396491785898343\n"
     ]
    },
    {
     "name": "stderr",
     "output_type": "stream",
     "text": [
      "Registration Progress: 100%|██████████| 14/14 [05:45<00:00, 24.66s/it]\n",
      "Fixed Images:  20%|██        | 3/15 [17:05<1:08:19, 341.61s/it]"
     ]
    },
    {
     "name": "stdout",
     "output_type": "stream",
     "text": [
      "Average Dice Score for fixed image 1002.nii.gz: 0.7518504855555525\n"
     ]
    },
    {
     "name": "stderr",
     "output_type": "stream",
     "text": [
      "Registration Progress: 100%|██████████| 14/14 [06:12<00:00, 26.61s/it]\n",
      "Fixed Images:  27%|██▋       | 4/15 [23:17<1:04:52, 353.85s/it]"
     ]
    },
    {
     "name": "stdout",
     "output_type": "stream",
     "text": [
      "Average Dice Score for fixed image 1006.nii.gz: 0.7463647545256938\n"
     ]
    },
    {
     "name": "stderr",
     "output_type": "stream",
     "text": [
      "Registration Progress: 100%|██████████| 14/14 [05:54<00:00, 25.30s/it]\n",
      "Fixed Images:  33%|███▎      | 5/15 [29:12<59:00, 354.05s/it]  "
     ]
    },
    {
     "name": "stdout",
     "output_type": "stream",
     "text": [
      "Average Dice Score for fixed image 1007.nii.gz: 0.7302532254613202\n"
     ]
    },
    {
     "name": "stderr",
     "output_type": "stream",
     "text": [
      "Registration Progress: 100%|██████████| 14/14 [05:53<00:00, 25.29s/it]\n",
      "Fixed Images:  40%|████      | 6/15 [35:06<53:06, 354.08s/it]"
     ]
    },
    {
     "name": "stdout",
     "output_type": "stream",
     "text": [
      "Average Dice Score for fixed image 1008.nii.gz: 0.7588911407887579\n"
     ]
    },
    {
     "name": "stderr",
     "output_type": "stream",
     "text": [
      "Registration Progress: 100%|██████████| 14/14 [05:53<00:00, 25.25s/it]\n",
      "Fixed Images:  47%|████▋     | 7/15 [41:00<47:11, 353.94s/it]"
     ]
    },
    {
     "name": "stdout",
     "output_type": "stream",
     "text": [
      "Average Dice Score for fixed image 1009.nii.gz: 0.7351871031328239\n"
     ]
    },
    {
     "name": "stderr",
     "output_type": "stream",
     "text": [
      "Registration Progress: 100%|██████████| 14/14 [05:22<00:00, 23.06s/it]\n",
      "Fixed Images:  53%|█████▎    | 8/15 [46:23<40:08, 344.08s/it]"
     ]
    },
    {
     "name": "stdout",
     "output_type": "stream",
     "text": [
      "Average Dice Score for fixed image 1010.nii.gz: 0.7347156263200276\n"
     ]
    },
    {
     "name": "stderr",
     "output_type": "stream",
     "text": [
      "Registration Progress: 100%|██████████| 14/14 [05:49<00:00, 24.95s/it]\n",
      "Fixed Images:  60%|██████    | 9/15 [52:12<34:34, 345.75s/it]"
     ]
    },
    {
     "name": "stdout",
     "output_type": "stream",
     "text": [
      "Average Dice Score for fixed image 1011.nii.gz: 0.7500547241454131\n"
     ]
    },
    {
     "name": "stderr",
     "output_type": "stream",
     "text": [
      "Registration Progress: 100%|██████████| 14/14 [05:19<00:00, 22.84s/it]\n",
      "Fixed Images:  67%|██████▋   | 10/15 [57:32<28:08, 337.76s/it]"
     ]
    },
    {
     "name": "stdout",
     "output_type": "stream",
     "text": [
      "Average Dice Score for fixed image 1012.nii.gz: 0.7066865493372668\n"
     ]
    },
    {
     "name": "stderr",
     "output_type": "stream",
     "text": [
      "Registration Progress: 100%|██████████| 14/14 [05:36<00:00, 24.05s/it]\n",
      "Fixed Images:  73%|███████▎  | 11/15 [1:03:09<22:29, 337.48s/it]"
     ]
    },
    {
     "name": "stdout",
     "output_type": "stream",
     "text": [
      "Average Dice Score for fixed image 1013.nii.gz: 0.7590618024813296\n"
     ]
    },
    {
     "name": "stderr",
     "output_type": "stream",
     "text": [
      "Registration Progress: 100%|██████████| 14/14 [05:50<00:00, 25.07s/it]\n",
      "Fixed Images:  80%|████████  | 12/15 [1:09:00<17:04, 341.62s/it]"
     ]
    },
    {
     "name": "stdout",
     "output_type": "stream",
     "text": [
      "Average Dice Score for fixed image 1014.nii.gz: 0.7343183165543692\n"
     ]
    },
    {
     "name": "stderr",
     "output_type": "stream",
     "text": [
      "Registration Progress: 100%|██████████| 14/14 [05:48<00:00, 24.91s/it]\n",
      "Fixed Images:  87%|████████▋ | 13/15 [1:14:49<11:27, 343.82s/it]"
     ]
    },
    {
     "name": "stdout",
     "output_type": "stream",
     "text": [
      "Average Dice Score for fixed image 1015.nii.gz: 0.7433549969248041\n"
     ]
    },
    {
     "name": "stderr",
     "output_type": "stream",
     "text": [
      "Registration Progress: 100%|██████████| 14/14 [05:40<00:00, 24.31s/it]\n",
      "Fixed Images:  93%|█████████▎| 14/15 [1:20:29<05:42, 342.79s/it]"
     ]
    },
    {
     "name": "stdout",
     "output_type": "stream",
     "text": [
      "Average Dice Score for fixed image 1017.nii.gz: 0.7621701133738821\n"
     ]
    },
    {
     "name": "stderr",
     "output_type": "stream",
     "text": [
      "Registration Progress: 100%|██████████| 14/14 [04:26<00:00, 19.05s/it]\n",
      "Fixed Images: 100%|██████████| 15/15 [1:24:56<00:00, 339.77s/it]"
     ]
    },
    {
     "name": "stdout",
     "output_type": "stream",
     "text": [
      "Average Dice Score for fixed image 1036.nii.gz: 0.6959384584373465\n",
      "\n",
      "Best fixed image: 1017.nii.gz with average dice score: 0.7621701133738821\n"
     ]
    },
    {
     "name": "stderr",
     "output_type": "stream",
     "text": [
      "\n"
     ]
    }
   ],
   "source": [
    "best_scores = {}\n",
    "folder_path = 'training-set/training-images/'\n",
    "label_path = 'training-set/training-labels/'\n",
    "# Iterate through each potential fixed image\n",
    "for fixed_file in tqdm(os.listdir(folder_path), desc=\"Fixed Images\"):\n",
    "    if not fixed_file.endswith(('.nii', '.nii.gz')):\n",
    "        continue\n",
    "    fixed_image = itk.imread(os.path.join(folder_path, fixed_file), itk.F)\n",
    "    fixed_label = itk.imread(os.path.join(label_path, fixed_file.replace('.nii.gz', '_3C.nii.gz')), itk.F)\n",
    "    files_to_process = [os.path.join(folder_path, f) for f in os.listdir(folder_path) if f.endswith(('.nii', '.nii.gz')) and f != fixed_file]\n",
    "    with tqdm(total=len(files_to_process), desc=\"Registration Progress\") as pbar:\n",
    "        dice_scores = []\n",
    "        for moving_file in files_to_process:\n",
    "            moving_image = itk.imread(moving_file, itk.F)\n",
    "            moving_label = itk.imread(os.path.join(label_path, os.path.basename(moving_file).replace('.nii.gz', '_3C.nii.gz')), itk.F)\n",
    "            # Create a parameter object\n",
    "            parameter_object = itk.ParameterObject.New()\n",
    "            parameter_object.AddParameterFile(\"parameters/21/Par0021_affine.txt\")\n",
    "            parameter_object.AddParameterFile(\"parameters/9/Parameters.Par0009.elastic.txt\")\n",
    "            result_image, result_transform_parameters = itk.elastix_registration_method(\n",
    "                fixed_image, moving_image,\n",
    "                parameter_object=parameter_object,\n",
    "                log_to_console=False)\n",
    "            # set the ResampleInterpolator of the result_transform_parameter to \"FinalNearestNeighborInterpolator\"\n",
    "            result_transform_parameters.SetParameter(\"ResampleInterpolator\", [\"FinalNearestNeighborInterpolator\"])\n",
    "            # use the result_transform_parameters to transform the moving image\n",
    "            result_label = itk.transformix_filter(moving_label, result_transform_parameters)\n",
    "            # Calculate dice score between fixed label and transformed moving label\n",
    "            dice_score = calculate_dice_coefficient(\n",
    "                itk.GetArrayFromImage(fixed_label),\n",
    "                itk.GetArrayFromImage(result_label)\n",
    "            )\n",
    "            dice_scores.append(dice_score)\n",
    "            pbar.update(1)\n",
    "    # Store average dice score for this fixed image\n",
    "    avg_dice = np.mean(dice_scores)\n",
    "    best_scores[fixed_file] = avg_dice\n",
    "    print(f\"Average Dice Score for fixed image {fixed_file}: {avg_dice}\")\n",
    "    \n",
    "# Find the best fixed image\n",
    "best_fixed_image = max(best_scores.items(), key=lambda x: x[1])\n",
    "print(f\"\\nBest fixed image: {best_fixed_image[0]} with average dice score: {best_fixed_image[1]}\")"
   ]
  },
  {
   "cell_type": "markdown",
   "metadata": {},
   "source": [
    "# Registration One vs Rest param:21 affine + bspline"
   ]
  },
  {
   "cell_type": "code",
   "execution_count": 8,
   "metadata": {},
   "outputs": [
    {
     "name": "stderr",
     "output_type": "stream",
     "text": [
      "Registration Progress: 100%|██████████| 14/14 [06:12<00:00, 26.61s/it]\n",
      "Fixed Images:   7%|▋         | 1/15 [06:12<1:26:58, 372.76s/it]"
     ]
    },
    {
     "name": "stdout",
     "output_type": "stream",
     "text": [
      "Average Dice Score for fixed image 1000.nii.gz: 0.7064591913444962\n"
     ]
    },
    {
     "name": "stderr",
     "output_type": "stream",
     "text": [
      "Registration Progress: 100%|██████████| 14/14 [05:49<00:00, 24.94s/it]\n",
      "Fixed Images:  13%|█▎        | 2/15 [12:02<1:17:47, 359.00s/it]"
     ]
    },
    {
     "name": "stdout",
     "output_type": "stream",
     "text": [
      "Average Dice Score for fixed image 1001.nii.gz: 0.7070645635186287\n"
     ]
    },
    {
     "name": "stderr",
     "output_type": "stream",
     "text": [
      "Registration Progress: 100%|██████████| 14/14 [05:55<00:00, 25.38s/it]\n",
      "Fixed Images:  20%|██        | 3/15 [17:57<1:11:28, 357.39s/it]"
     ]
    },
    {
     "name": "stdout",
     "output_type": "stream",
     "text": [
      "Average Dice Score for fixed image 1002.nii.gz: 0.7142738896896377\n"
     ]
    },
    {
     "name": "stderr",
     "output_type": "stream",
     "text": [
      "Registration Progress: 100%|██████████| 14/14 [06:25<00:00, 27.51s/it]\n",
      "Fixed Images:  27%|██▋       | 4/15 [24:22<1:07:32, 368.41s/it]"
     ]
    },
    {
     "name": "stdout",
     "output_type": "stream",
     "text": [
      "Average Dice Score for fixed image 1006.nii.gz: 0.7004031784505633\n"
     ]
    },
    {
     "name": "stderr",
     "output_type": "stream",
     "text": [
      "Registration Progress: 100%|██████████| 14/14 [06:28<00:00, 27.74s/it]\n",
      "Fixed Images:  33%|███▎      | 5/15 [30:51<1:02:36, 375.69s/it]"
     ]
    },
    {
     "name": "stdout",
     "output_type": "stream",
     "text": [
      "Average Dice Score for fixed image 1007.nii.gz: 0.6981699432650194\n"
     ]
    },
    {
     "name": "stderr",
     "output_type": "stream",
     "text": [
      "Registration Progress: 100%|██████████| 14/14 [06:01<00:00, 25.83s/it]\n",
      "Fixed Images:  40%|████      | 6/15 [36:53<55:38, 370.94s/it]  "
     ]
    },
    {
     "name": "stdout",
     "output_type": "stream",
     "text": [
      "Average Dice Score for fixed image 1008.nii.gz: 0.7203232045025102\n"
     ]
    },
    {
     "name": "stderr",
     "output_type": "stream",
     "text": [
      "Registration Progress: 100%|██████████| 14/14 [05:53<00:00, 25.23s/it]\n",
      "Fixed Images:  47%|████▋     | 7/15 [42:46<48:41, 365.18s/it]"
     ]
    },
    {
     "name": "stdout",
     "output_type": "stream",
     "text": [
      "Average Dice Score for fixed image 1009.nii.gz: 0.7089251574528505\n"
     ]
    },
    {
     "name": "stderr",
     "output_type": "stream",
     "text": [
      "Registration Progress: 100%|██████████| 14/14 [05:27<00:00, 23.36s/it]\n",
      "Fixed Images:  53%|█████▎    | 8/15 [48:13<41:11, 353.07s/it]"
     ]
    },
    {
     "name": "stdout",
     "output_type": "stream",
     "text": [
      "Average Dice Score for fixed image 1010.nii.gz: 0.7008032275632932\n"
     ]
    },
    {
     "name": "stderr",
     "output_type": "stream",
     "text": [
      "Registration Progress: 100%|██████████| 14/14 [06:06<00:00, 26.20s/it]\n",
      "Fixed Images:  60%|██████    | 9/15 [54:20<35:44, 357.40s/it]"
     ]
    },
    {
     "name": "stdout",
     "output_type": "stream",
     "text": [
      "Average Dice Score for fixed image 1011.nii.gz: 0.7118677901565643\n"
     ]
    },
    {
     "name": "stderr",
     "output_type": "stream",
     "text": [
      "Registration Progress: 100%|██████████| 14/14 [06:03<00:00, 25.97s/it]\n",
      "Fixed Images:  67%|██████▋   | 10/15 [1:00:24<29:56, 359.36s/it]"
     ]
    },
    {
     "name": "stdout",
     "output_type": "stream",
     "text": [
      "Average Dice Score for fixed image 1012.nii.gz: 0.6838228720488457\n"
     ]
    },
    {
     "name": "stderr",
     "output_type": "stream",
     "text": [
      "Registration Progress: 100%|██████████| 14/14 [06:10<00:00, 26.48s/it]\n",
      "Fixed Images:  73%|███████▎  | 11/15 [1:06:35<24:11, 362.88s/it]"
     ]
    },
    {
     "name": "stdout",
     "output_type": "stream",
     "text": [
      "Average Dice Score for fixed image 1013.nii.gz: 0.7163784044750423\n"
     ]
    },
    {
     "name": "stderr",
     "output_type": "stream",
     "text": [
      "Registration Progress: 100%|██████████| 14/14 [06:26<00:00, 27.61s/it]\n",
      "Fixed Images:  80%|████████  | 12/15 [1:13:01<18:30, 370.10s/it]"
     ]
    },
    {
     "name": "stdout",
     "output_type": "stream",
     "text": [
      "Average Dice Score for fixed image 1014.nii.gz: 0.7001562563591465\n"
     ]
    },
    {
     "name": "stderr",
     "output_type": "stream",
     "text": [
      "Registration Progress: 100%|██████████| 14/14 [06:38<00:00, 28.45s/it]\n",
      "Fixed Images:  87%|████████▋ | 13/15 [1:19:40<12:37, 378.68s/it]"
     ]
    },
    {
     "name": "stdout",
     "output_type": "stream",
     "text": [
      "Average Dice Score for fixed image 1015.nii.gz: 0.7101846517298223\n"
     ]
    },
    {
     "name": "stderr",
     "output_type": "stream",
     "text": [
      "Registration Progress: 100%|██████████| 14/14 [05:58<00:00, 25.59s/it]\n",
      "Fixed Images:  93%|█████████▎| 14/15 [1:25:38<06:12, 372.56s/it]"
     ]
    },
    {
     "name": "stdout",
     "output_type": "stream",
     "text": [
      "Average Dice Score for fixed image 1017.nii.gz: 0.7118640936920794\n"
     ]
    },
    {
     "name": "stderr",
     "output_type": "stream",
     "text": [
      "Registration Progress: 100%|██████████| 14/14 [06:54<00:00, 29.63s/it]\n",
      "Fixed Images: 100%|██████████| 15/15 [1:32:33<00:00, 370.26s/it]"
     ]
    },
    {
     "name": "stdout",
     "output_type": "stream",
     "text": [
      "Average Dice Score for fixed image 1036.nii.gz: 0.6727890331875683\n",
      "\n",
      "Best fixed image: 1008.nii.gz with average dice score: 0.7203232045025102\n"
     ]
    },
    {
     "name": "stderr",
     "output_type": "stream",
     "text": [
      "\n"
     ]
    }
   ],
   "source": [
    "best_scores = {}\n",
    "folder_path = 'training-set/training-images/'\n",
    "label_path = 'training-set/training-labels/'\n",
    "# Iterate through each potential fixed image\n",
    "for fixed_file in tqdm(os.listdir(folder_path), desc=\"Fixed Images\"):\n",
    "    if not fixed_file.endswith(('.nii', '.nii.gz')):\n",
    "        continue\n",
    "    fixed_image = itk.imread(os.path.join(folder_path, fixed_file), itk.F)\n",
    "    fixed_label = itk.imread(os.path.join(label_path, fixed_file.replace('.nii.gz', '_3C.nii.gz')), itk.F)\n",
    "    files_to_process = [os.path.join(folder_path, f) for f in os.listdir(folder_path) if f.endswith(('.nii', '.nii.gz')) and f != fixed_file]\n",
    "    with tqdm(total=len(files_to_process), desc=\"Registration Progress\") as pbar:\n",
    "        dice_scores = []\n",
    "        for moving_file in files_to_process:\n",
    "            moving_image = itk.imread(moving_file, itk.F)\n",
    "            moving_label = itk.imread(os.path.join(label_path, os.path.basename(moving_file).replace('.nii.gz', '_3C.nii.gz')), itk.F)\n",
    "            # Create a parameter object\n",
    "            parameter_object = itk.ParameterObject.New()\n",
    "            parameter_object.AddParameterFile(\"parameters/21/Par0021_affine.txt\")\n",
    "            parameter_object.AddParameterFile(\"parameters/default/Parameters_BSpline.txt\")\n",
    "            result_image, result_transform_parameters = itk.elastix_registration_method(\n",
    "                fixed_image, moving_image,\n",
    "                parameter_object=parameter_object,\n",
    "                log_to_console=False)\n",
    "            # set the ResampleInterpolator of the result_transform_parameter to \"FinalNearestNeighborInterpolator\"\n",
    "            result_transform_parameters.SetParameter(\"ResampleInterpolator\", [\"FinalNearestNeighborInterpolator\"])\n",
    "            # use the result_transform_parameters to transform the moving image\n",
    "            result_label = itk.transformix_filter(moving_label, result_transform_parameters)\n",
    "            # Calculate dice score between fixed label and transformed moving label\n",
    "            dice_score = calculate_dice_coefficient(\n",
    "                itk.GetArrayFromImage(fixed_label),\n",
    "                itk.GetArrayFromImage(result_label)\n",
    "            )\n",
    "            dice_scores.append(dice_score)\n",
    "            pbar.update(1)\n",
    "    # Store average dice score for this fixed image\n",
    "    avg_dice = np.mean(dice_scores)\n",
    "    best_scores[fixed_file] = avg_dice\n",
    "    print(f\"Average Dice Score for fixed image {fixed_file}: {avg_dice}\")\n",
    "    \n",
    "# Find the best fixed image\n",
    "best_fixed_image = max(best_scores.items(), key=lambda x: x[1])\n",
    "print(f\"\\nBest fixed image: {best_fixed_image[0]} with average dice score: {best_fixed_image[1]}\")\n"
   ]
  },
  {
   "cell_type": "markdown",
   "metadata": {},
   "source": [
    "# Registration One vs Rest param:default affine"
   ]
  },
  {
   "cell_type": "code",
   "execution_count": 10,
   "metadata": {},
   "outputs": [
    {
     "name": "stderr",
     "output_type": "stream",
     "text": [
      "Registration Progress: 100%|██████████| 14/14 [00:58<00:00,  4.20s/it]\n",
      "Fixed Images:   7%|▋         | 1/15 [00:59<13:46, 59.01s/it]"
     ]
    },
    {
     "name": "stdout",
     "output_type": "stream",
     "text": [
      "Average Dice Score for fixed image 1000.nii.gz: 0.5615627406443571\n"
     ]
    },
    {
     "name": "stderr",
     "output_type": "stream",
     "text": [
      "Registration Progress: 100%|██████████| 14/14 [00:59<00:00,  4.22s/it]\n",
      "Fixed Images:  13%|█▎        | 2/15 [01:58<12:49, 59.17s/it]"
     ]
    },
    {
     "name": "stdout",
     "output_type": "stream",
     "text": [
      "Average Dice Score for fixed image 1001.nii.gz: 0.5738752378753185\n"
     ]
    },
    {
     "name": "stderr",
     "output_type": "stream",
     "text": [
      "Registration Progress: 100%|██████████| 14/14 [00:57<00:00,  4.07s/it]\n",
      "Fixed Images:  20%|██        | 3/15 [02:55<11:39, 58.26s/it]"
     ]
    },
    {
     "name": "stdout",
     "output_type": "stream",
     "text": [
      "Average Dice Score for fixed image 1002.nii.gz: 0.5336346597039067\n"
     ]
    },
    {
     "name": "stderr",
     "output_type": "stream",
     "text": [
      "Registration Progress: 100%|██████████| 14/14 [00:58<00:00,  4.17s/it]\n",
      "Fixed Images:  27%|██▋       | 4/15 [03:54<10:42, 58.38s/it]"
     ]
    },
    {
     "name": "stdout",
     "output_type": "stream",
     "text": [
      "Average Dice Score for fixed image 1006.nii.gz: 0.5692630971082429\n"
     ]
    },
    {
     "name": "stderr",
     "output_type": "stream",
     "text": [
      "Registration Progress: 100%|██████████| 14/14 [00:56<00:00,  4.05s/it]\n",
      "Fixed Images:  33%|███▎      | 5/15 [04:50<09:38, 57.83s/it]"
     ]
    },
    {
     "name": "stdout",
     "output_type": "stream",
     "text": [
      "Average Dice Score for fixed image 1007.nii.gz: 0.5543966998965149\n"
     ]
    },
    {
     "name": "stderr",
     "output_type": "stream",
     "text": [
      "Registration Progress: 100%|██████████| 14/14 [00:57<00:00,  4.12s/it]\n",
      "Fixed Images:  40%|████      | 6/15 [05:48<08:40, 57.83s/it]"
     ]
    },
    {
     "name": "stdout",
     "output_type": "stream",
     "text": [
      "Average Dice Score for fixed image 1008.nii.gz: 0.6198940098622036\n"
     ]
    },
    {
     "name": "stderr",
     "output_type": "stream",
     "text": [
      "Registration Progress: 100%|██████████| 14/14 [00:58<00:00,  4.19s/it]\n",
      "Fixed Images:  47%|████▋     | 7/15 [06:47<07:45, 58.14s/it]"
     ]
    },
    {
     "name": "stdout",
     "output_type": "stream",
     "text": [
      "Average Dice Score for fixed image 1009.nii.gz: 0.5994414666473091\n"
     ]
    },
    {
     "name": "stderr",
     "output_type": "stream",
     "text": [
      "Registration Progress: 100%|██████████| 14/14 [00:55<00:00,  3.95s/it]\n",
      "Fixed Images:  53%|█████▎    | 8/15 [07:42<06:40, 57.26s/it]"
     ]
    },
    {
     "name": "stdout",
     "output_type": "stream",
     "text": [
      "Average Dice Score for fixed image 1010.nii.gz: 0.5694294275017368\n"
     ]
    },
    {
     "name": "stderr",
     "output_type": "stream",
     "text": [
      "Registration Progress: 100%|██████████| 14/14 [01:00<00:00,  4.31s/it]\n",
      "Fixed Images:  60%|██████    | 9/15 [08:43<05:49, 58.28s/it]"
     ]
    },
    {
     "name": "stdout",
     "output_type": "stream",
     "text": [
      "Average Dice Score for fixed image 1011.nii.gz: 0.6138953036642657\n"
     ]
    },
    {
     "name": "stderr",
     "output_type": "stream",
     "text": [
      "Registration Progress: 100%|██████████| 14/14 [00:55<00:00,  3.95s/it]\n",
      "Fixed Images:  67%|██████▋   | 10/15 [09:38<04:47, 57.41s/it]"
     ]
    },
    {
     "name": "stdout",
     "output_type": "stream",
     "text": [
      "Average Dice Score for fixed image 1012.nii.gz: 0.5406457713695128\n"
     ]
    },
    {
     "name": "stderr",
     "output_type": "stream",
     "text": [
      "Registration Progress: 100%|██████████| 14/14 [01:01<00:00,  4.41s/it]\n",
      "Fixed Images:  73%|███████▎  | 11/15 [10:40<03:55, 58.77s/it]"
     ]
    },
    {
     "name": "stdout",
     "output_type": "stream",
     "text": [
      "Average Dice Score for fixed image 1013.nii.gz: 0.6202864621864359\n"
     ]
    },
    {
     "name": "stderr",
     "output_type": "stream",
     "text": [
      "Registration Progress: 100%|██████████| 14/14 [00:58<00:00,  4.18s/it]\n",
      "Fixed Images:  80%|████████  | 12/15 [11:39<02:56, 58.74s/it]"
     ]
    },
    {
     "name": "stdout",
     "output_type": "stream",
     "text": [
      "Average Dice Score for fixed image 1014.nii.gz: 0.5883207850374053\n"
     ]
    },
    {
     "name": "stderr",
     "output_type": "stream",
     "text": [
      "Registration Progress: 100%|██████████| 14/14 [01:03<00:00,  4.54s/it]\n",
      "Fixed Images:  87%|████████▋ | 13/15 [12:43<02:00, 60.24s/it]"
     ]
    },
    {
     "name": "stdout",
     "output_type": "stream",
     "text": [
      "Average Dice Score for fixed image 1015.nii.gz: 0.5763721364487162\n"
     ]
    },
    {
     "name": "stderr",
     "output_type": "stream",
     "text": [
      "Registration Progress: 100%|██████████| 14/14 [00:56<00:00,  4.02s/it]\n",
      "Fixed Images:  93%|█████████▎| 14/15 [13:39<00:59, 59.10s/it]"
     ]
    },
    {
     "name": "stdout",
     "output_type": "stream",
     "text": [
      "Average Dice Score for fixed image 1017.nii.gz: 0.5557639668364839\n"
     ]
    },
    {
     "name": "stderr",
     "output_type": "stream",
     "text": [
      "Registration Progress: 100%|██████████| 14/14 [00:56<00:00,  4.03s/it]\n",
      "Fixed Images: 100%|██████████| 15/15 [14:36<00:00, 58.41s/it]"
     ]
    },
    {
     "name": "stdout",
     "output_type": "stream",
     "text": [
      "Average Dice Score for fixed image 1036.nii.gz: 0.49539124121392336\n",
      "\n",
      "Best fixed image: 1013.nii.gz with average dice score: 0.6202864621864359\n"
     ]
    },
    {
     "name": "stderr",
     "output_type": "stream",
     "text": [
      "\n"
     ]
    }
   ],
   "source": [
    "best_scores = {}\n",
    "folder_path = 'training-set/training-images/'\n",
    "label_path = 'training-set/training-labels/'\n",
    "# Iterate through each potential fixed image\n",
    "for fixed_file in tqdm(os.listdir(folder_path), desc=\"Fixed Images\"):\n",
    "    if not fixed_file.endswith(('.nii', '.nii.gz')):\n",
    "        continue\n",
    "    fixed_image = itk.imread(os.path.join(folder_path, fixed_file), itk.F)\n",
    "    fixed_label = itk.imread(os.path.join(label_path, fixed_file.replace('.nii.gz', '_3C.nii.gz')), itk.F)\n",
    "    files_to_process = [os.path.join(folder_path, f) for f in os.listdir(folder_path) if f.endswith(('.nii', '.nii.gz')) and f != fixed_file]\n",
    "    with tqdm(total=len(files_to_process), desc=\"Registration Progress\") as pbar:\n",
    "        dice_scores = []\n",
    "        for moving_file in files_to_process:\n",
    "            moving_image = itk.imread(moving_file, itk.F)\n",
    "            moving_label = itk.imread(os.path.join(label_path, os.path.basename(moving_file).replace('.nii.gz', '_3C.nii.gz')), itk.F)\n",
    "            # Create a parameter object\n",
    "            parameter_object = itk.ParameterObject.New()\n",
    "            parameter_object.AddParameterFile(\"parameters/default/Parameters_Affine.txt\")\n",
    "            result_image, result_transform_parameters = itk.elastix_registration_method(\n",
    "                fixed_image, moving_image,\n",
    "                parameter_object=parameter_object,\n",
    "                log_to_console=False)\n",
    "            # set the ResampleInterpolator of the result_transform_parameter to \"FinalNearestNeighborInterpolator\"\n",
    "            result_transform_parameters.SetParameter(\"ResampleInterpolator\", [\"FinalNearestNeighborInterpolator\"])\n",
    "            # use the result_transform_parameters to transform the moving image\n",
    "            result_label = itk.transformix_filter(moving_label, result_transform_parameters)\n",
    "            # Calculate dice score between fixed label and transformed moving label\n",
    "            dice_score = calculate_dice_coefficient(\n",
    "                itk.GetArrayFromImage(fixed_label),\n",
    "                itk.GetArrayFromImage(result_label)\n",
    "            )\n",
    "            dice_scores.append(dice_score)\n",
    "            pbar.update(1)\n",
    "    # Store average dice score for this fixed image\n",
    "    avg_dice = np.mean(dice_scores)\n",
    "    best_scores[fixed_file] = avg_dice\n",
    "    print(f\"Average Dice Score for fixed image {fixed_file}: {avg_dice}\")\n",
    "    \n",
    "# Find the best fixed image\n",
    "best_fixed_image = max(best_scores.items(), key=lambda x: x[1])\n",
    "print(f\"\\nBest fixed image: {best_fixed_image[0]} with average dice score: {best_fixed_image[1]}\")\n"
   ]
  },
  {
   "cell_type": "markdown",
   "metadata": {},
   "source": [
    "# Registration One vs Rest param:default bspline"
   ]
  },
  {
   "cell_type": "code",
   "execution_count": 11,
   "metadata": {},
   "outputs": [
    {
     "name": "stderr",
     "output_type": "stream",
     "text": [
      "Registration Progress: 100%|██████████| 14/14 [03:55<00:00, 16.80s/it]\n",
      "Fixed Images:   7%|▋         | 1/15 [03:55<54:55, 235.43s/it]"
     ]
    },
    {
     "name": "stdout",
     "output_type": "stream",
     "text": [
      "Average Dice Score for fixed image 1000.nii.gz: 0.710842060002733\n"
     ]
    },
    {
     "name": "stderr",
     "output_type": "stream",
     "text": [
      "Registration Progress: 100%|██████████| 14/14 [03:50<00:00, 16.48s/it]\n",
      "Fixed Images:  13%|█▎        | 2/15 [07:46<50:25, 232.72s/it]"
     ]
    },
    {
     "name": "stdout",
     "output_type": "stream",
     "text": [
      "Average Dice Score for fixed image 1001.nii.gz: 0.7095551074685268\n"
     ]
    },
    {
     "name": "stderr",
     "output_type": "stream",
     "text": [
      "Registration Progress: 100%|██████████| 14/14 [03:51<00:00, 16.54s/it]\n",
      "Fixed Images:  20%|██        | 3/15 [11:37<46:27, 232.26s/it]"
     ]
    },
    {
     "name": "stdout",
     "output_type": "stream",
     "text": [
      "Average Dice Score for fixed image 1002.nii.gz: 0.7179827117065198\n"
     ]
    },
    {
     "name": "stderr",
     "output_type": "stream",
     "text": [
      "Registration Progress: 100%|██████████| 14/14 [06:24<00:00, 27.46s/it]\n",
      "Fixed Images:  27%|██▋       | 4/15 [18:02<53:36, 292.42s/it]"
     ]
    },
    {
     "name": "stdout",
     "output_type": "stream",
     "text": [
      "Average Dice Score for fixed image 1006.nii.gz: 0.7046888816887474\n"
     ]
    },
    {
     "name": "stderr",
     "output_type": "stream",
     "text": [
      "Registration Progress: 100%|██████████| 14/14 [06:18<00:00, 27.05s/it]\n",
      "Fixed Images:  33%|███▎      | 5/15 [24:21<53:55, 323.58s/it]"
     ]
    },
    {
     "name": "stdout",
     "output_type": "stream",
     "text": [
      "Average Dice Score for fixed image 1007.nii.gz: 0.7018154293576249\n"
     ]
    },
    {
     "name": "stderr",
     "output_type": "stream",
     "text": [
      "Registration Progress: 100%|██████████| 14/14 [03:59<00:00, 17.08s/it]\n",
      "Fixed Images:  40%|████      | 6/15 [28:20<44:14, 294.93s/it]"
     ]
    },
    {
     "name": "stdout",
     "output_type": "stream",
     "text": [
      "Average Dice Score for fixed image 1008.nii.gz: 0.7227815853322227\n"
     ]
    },
    {
     "name": "stderr",
     "output_type": "stream",
     "text": [
      "Registration Progress: 100%|██████████| 14/14 [04:13<00:00, 18.12s/it]\n",
      "Fixed Images:  47%|████▋     | 7/15 [32:34<37:31, 281.48s/it]"
     ]
    },
    {
     "name": "stdout",
     "output_type": "stream",
     "text": [
      "Average Dice Score for fixed image 1009.nii.gz: 0.7079578826357008\n"
     ]
    },
    {
     "name": "stderr",
     "output_type": "stream",
     "text": [
      "Registration Progress: 100%|██████████| 14/14 [04:42<00:00, 20.20s/it]\n",
      "Fixed Images:  53%|█████▎    | 8/15 [37:17<32:53, 281.98s/it]"
     ]
    },
    {
     "name": "stdout",
     "output_type": "stream",
     "text": [
      "Average Dice Score for fixed image 1010.nii.gz: 0.7029715399404955\n"
     ]
    },
    {
     "name": "stderr",
     "output_type": "stream",
     "text": [
      "Registration Progress: 100%|██████████| 14/14 [03:57<00:00, 16.96s/it]\n",
      "Fixed Images:  60%|██████    | 9/15 [41:15<26:48, 268.12s/it]"
     ]
    },
    {
     "name": "stdout",
     "output_type": "stream",
     "text": [
      "Average Dice Score for fixed image 1011.nii.gz: 0.7150081173330661\n"
     ]
    },
    {
     "name": "stderr",
     "output_type": "stream",
     "text": [
      "Registration Progress: 100%|██████████| 14/14 [04:10<00:00, 17.86s/it]\n",
      "Fixed Images:  67%|██████▋   | 10/15 [45:25<21:53, 262.60s/it]"
     ]
    },
    {
     "name": "stdout",
     "output_type": "stream",
     "text": [
      "Average Dice Score for fixed image 1012.nii.gz: 0.6891242177057038\n"
     ]
    },
    {
     "name": "stderr",
     "output_type": "stream",
     "text": [
      "Registration Progress: 100%|██████████| 14/14 [04:16<00:00, 18.34s/it]\n",
      "Fixed Images:  73%|███████▎  | 11/15 [49:42<17:23, 260.84s/it]"
     ]
    },
    {
     "name": "stdout",
     "output_type": "stream",
     "text": [
      "Average Dice Score for fixed image 1013.nii.gz: 0.7196101848705487\n"
     ]
    },
    {
     "name": "stderr",
     "output_type": "stream",
     "text": [
      "Registration Progress: 100%|██████████| 14/14 [04:20<00:00, 18.61s/it]\n",
      "Fixed Images:  80%|████████  | 12/15 [54:02<13:02, 260.78s/it]"
     ]
    },
    {
     "name": "stdout",
     "output_type": "stream",
     "text": [
      "Average Dice Score for fixed image 1014.nii.gz: 0.7021747103429554\n"
     ]
    },
    {
     "name": "stderr",
     "output_type": "stream",
     "text": [
      "Registration Progress: 100%|██████████| 14/14 [04:26<00:00, 19.07s/it]\n",
      "Fixed Images:  87%|████████▋ | 13/15 [58:30<08:45, 262.70s/it]"
     ]
    },
    {
     "name": "stdout",
     "output_type": "stream",
     "text": [
      "Average Dice Score for fixed image 1015.nii.gz: 0.7140419292912789\n"
     ]
    },
    {
     "name": "stderr",
     "output_type": "stream",
     "text": [
      "Registration Progress: 100%|██████████| 14/14 [03:44<00:00, 16.05s/it]\n",
      "Fixed Images:  93%|█████████▎| 14/15 [1:02:14<04:11, 251.28s/it]"
     ]
    },
    {
     "name": "stdout",
     "output_type": "stream",
     "text": [
      "Average Dice Score for fixed image 1017.nii.gz: 0.7157144903146174\n"
     ]
    },
    {
     "name": "stderr",
     "output_type": "stream",
     "text": [
      "Registration Progress: 100%|██████████| 14/14 [04:19<00:00, 18.52s/it]\n",
      "Fixed Images: 100%|██████████| 15/15 [1:06:34<00:00, 266.30s/it]"
     ]
    },
    {
     "name": "stdout",
     "output_type": "stream",
     "text": [
      "Average Dice Score for fixed image 1036.nii.gz: 0.6662939565952959\n",
      "\n",
      "Best fixed image: 1008.nii.gz with average dice score: 0.7227815853322227\n"
     ]
    },
    {
     "name": "stderr",
     "output_type": "stream",
     "text": [
      "\n"
     ]
    }
   ],
   "source": [
    "best_scores = {}\n",
    "folder_path = 'training-set/training-images/'\n",
    "label_path = 'training-set/training-labels/'\n",
    "# Iterate through each potential fixed image\n",
    "for fixed_file in tqdm(os.listdir(folder_path), desc=\"Fixed Images\"):\n",
    "    if not fixed_file.endswith(('.nii', '.nii.gz')):\n",
    "        continue\n",
    "    fixed_image = itk.imread(os.path.join(folder_path, fixed_file), itk.F)\n",
    "    fixed_label = itk.imread(os.path.join(label_path, fixed_file.replace('.nii.gz', '_3C.nii.gz')), itk.F)\n",
    "    files_to_process = [os.path.join(folder_path, f) for f in os.listdir(folder_path) if f.endswith(('.nii', '.nii.gz')) and f != fixed_file]\n",
    "    with tqdm(total=len(files_to_process), desc=\"Registration Progress\") as pbar:\n",
    "        dice_scores = []\n",
    "        for moving_file in files_to_process:\n",
    "            moving_image = itk.imread(moving_file, itk.F)\n",
    "            moving_label = itk.imread(os.path.join(label_path, os.path.basename(moving_file).replace('.nii.gz', '_3C.nii.gz')), itk.F)\n",
    "            # Create a parameter object\n",
    "            parameter_object = itk.ParameterObject.New()\n",
    "            parameter_object.AddParameterFile(\"parameters/default/Parameters_BSpline.txt\")\n",
    "            result_image, result_transform_parameters = itk.elastix_registration_method(\n",
    "                fixed_image, moving_image,\n",
    "                parameter_object=parameter_object,\n",
    "                log_to_console=False)\n",
    "            # set the ResampleInterpolator of the result_transform_parameter to \"FinalNearestNeighborInterpolator\"\n",
    "            result_transform_parameters.SetParameter(\"ResampleInterpolator\", [\"FinalNearestNeighborInterpolator\"])\n",
    "            # use the result_transform_parameters to transform the moving image\n",
    "            result_label = itk.transformix_filter(moving_label, result_transform_parameters)\n",
    "            # Calculate dice score between fixed label and transformed moving label\n",
    "            dice_score = calculate_dice_coefficient(\n",
    "                itk.GetArrayFromImage(fixed_label),\n",
    "                itk.GetArrayFromImage(result_label)\n",
    "            )\n",
    "            dice_scores.append(dice_score)\n",
    "            pbar.update(1)\n",
    "    # Store average dice score for this fixed image\n",
    "    avg_dice = np.mean(dice_scores)\n",
    "    best_scores[fixed_file] = avg_dice\n",
    "    print(f\"Average Dice Score for fixed image {fixed_file}: {avg_dice}\")\n",
    "    \n",
    "# Find the best fixed image\n",
    "best_fixed_image = max(best_scores.items(), key=lambda x: x[1])\n",
    "print(f\"\\nBest fixed image: {best_fixed_image[0]} with average dice score: {best_fixed_image[1]}\")\n"
   ]
  }
 ],
 "metadata": {
  "kernelspec": {
   "display_name": ".venv",
   "language": "python",
   "name": "python3"
  },
  "language_info": {
   "codemirror_mode": {
    "name": "ipython",
    "version": 3
   },
   "file_extension": ".py",
   "mimetype": "text/x-python",
   "name": "python",
   "nbconvert_exporter": "python",
   "pygments_lexer": "ipython3",
   "version": "3.11.9"
  }
 },
 "nbformat": 4,
 "nbformat_minor": 2
}
